{
  "nbformat": 4,
  "nbformat_minor": 0,
  "metadata": {
    "colab": {
      "name": "interpolation_example.ipynb",
      "provenance": [],
      "authorship_tag": "ABX9TyM40nBwQDY7evd+aKCRtcm/",
      "include_colab_link": true
    },
    "kernelspec": {
      "name": "python3",
      "display_name": "Python 3"
    },
    "language_info": {
      "name": "python",
      "version": "3.8.2-final"
    }
  },
  "cells": [
    {
      "cell_type": "markdown",
      "execution_count": null,
      "metadata": {
        "colab_type": "text",
        "id": "view-in-github"
      },
      "outputs": [],
      "source": [
        "<a href=\"https://colab.research.google.com/github/comet-toolkit/comet_training/blob/main/interpolation_example.ipynb\" target=\"_parent\"><img src=\"https://colab.research.google.com/assets/colab-badge.svg\" alt=\"Open In Colab\"/></a>"
      ]
    },
    {
      "cell_type": "markdown",
      "execution_count": null,
      "metadata": {
        "id": "q--XLoo4Z325"
      },
      "outputs": [],
      "source": [
        "Examples of comet_maths interpolation\n",
        "======================================="
      ]
    },
    {
      "cell_type": "markdown",
      "execution_count": null,
      "metadata": {
        "id": "4pxZ7fqqZ6jS"
      },
      "outputs": [],
      "source": [
        "Normal 1D interpolation\n",
        "---------------------------"
      ]
    },
    {
      "cell_type": "markdown",
      "execution_count": null,
      "metadata": {
        "id": "MzrTVRTqaNE3"
      },
      "outputs": [],
      "source": [
        "We first install and import our comet_maths package (and punpy, numpy and matplotlib), and define some example measurement functions:"
      ]
    },
    {
      "cell_type": "code",
      "execution_count": null,
      "metadata": {},
      "outputs": [],
      "source": [
        "!pip install comet_maths>=0.22.0\n",
        "!pip install punpy>=0.44.0\n",
        "!pip install obsarray>=1.0.0"
      ]
    },
    {
      "cell_type": "code",
      "execution_count": null,
      "metadata": {},
      "outputs": [],
      "source": [
        "import comet_maths as cm\n",
        "import punpy\n",
        "\n",
        "import numpy as np\n",
        "import matplotlib.pyplot as plt\n",
        "\n",
        "import warnings\n",
        "warnings.filterwarnings('ignore')\n",
        "\n",
        "\n",
        "# your measurement function\n",
        "def function1(x):\n",
        "    return 15*x-20\n",
        "\n",
        "def function2(x):\n",
        "    \"\"\"The function to predict.\"\"\"\n",
        "    return x * np.sin(x*10)"
      ]
    },
    {
      "cell_type": "markdown",
      "execution_count": null,
      "metadata": {
        "id": "MWb_xvSoaa6Y"
      },
      "outputs": [],
      "source": [
        "Next we define some example data, and do a simple interpolation without uncertainties."
      ]
    },
    {
      "cell_type": "code",
      "execution_count": null,
      "metadata": {},
      "outputs": [],
      "source": [
        "xi=np.arange(0,3.,0.2)\n",
        "yi=function2(xi)\n",
        "u_yi=np.abs(0.05*yi)\n",
        "\n",
        "#add noise\n",
        "yi = cm.generate_sample(1, yi, u_yi, corr_x=\"rand\")\n",
        "\n",
        "x=np.arange(0,2.5,0.02)\n",
        "\n",
        "#It is possible to do interpolation without uncertainties\n",
        "y=cm.interpolate_1d(xi,yi,x,method=\"quadratic\")"
      ]
    },
    {
      "cell_type": "markdown",
      "execution_count": null,
      "metadata": {},
      "outputs": [],
      "source": [
        "Next we do an example with uncertainties. First we do an example in which we don't specify any input uncertainties, so will only get model uncertainties. Here (for analystical methods) the model uncertainties are calculated by talking the standard deviation between using various interpolation methods. For \"cubic\" as interpolation method, typically the results from \"linear\", \"quadratic\" and \"cubic\" are compared. Alternatively, the methods to be compared can be set using the unc_method keyword. We then also provide some examples with measurement uncertainties."
      ]
    },
    {
      "cell_type": "code",
      "execution_count": null,
      "metadata": {},
      "outputs": [],
      "source": [
        "#Interpolation with uncertainties\n",
        "y2,u_y2,corr_y2=cm.interpolate_1d(xi,yi,x,method=\"cubic\",unc_methods=[\"linear\", \"quadratic\",\"cubic\"],return_uncertainties=True,return_corr=True)"
      ]
    },
    {
      "cell_type": "code",
      "execution_count": null,
      "metadata": {},
      "outputs": [],
      "source": [
        "#This time with measurement uncertainties, this is more time consuming as needs to run MC\n",
        "y3,u_y3,corr_y3=cm.interpolate_1d(xi,yi,x,u_y_i=u_yi,method=\"cubic\",return_uncertainties=True,return_corr=True)"
      ]
    },
    {
      "cell_type": "markdown",
      "execution_count": null,
      "metadata": {},
      "outputs": [],
      "source": [
        "When Monte Carlo is necessary to propagate the uncertainties, the interpolation takes longer. Next we use the gpr method. Note that for this method, there is scale parameter for which a minimum value needs to be set (if not there is no constraint on how much variation is allowed between the data points). "
      ]
    },
    {
      "cell_type": "code",
      "execution_count": null,
      "metadata": {},
      "outputs": [],
      "source": [
        "#While using gpr, random measurement uncertainties can also be propagated quickly (implemented inherently in the gpr algorithm)\n",
        "y4,u_y4 = cm.interpolate_1d(xi,yi,x,method=\"gpr\",u_y_i=u_yi,min_scale=0.3,return_uncertainties=True)"
      ]
    },
    {
      "cell_type": "code",
      "execution_count": null,
      "metadata": {},
      "outputs": [],
      "source": [
        "#However, when the uncertainties are not random (as defined in corr_y_i keyword), the propagation is slower as MC needs to be used \n",
        "y5,u_y5,corr_y5 = cm.interpolate_1d(xi,yi,x,method=\"gpr\",u_y_i=u_yi, corr_y_i = \"syst\",min_scale=0.3,return_uncertainties=True,return_corr=True)"
      ]
    },
    {
      "cell_type": "markdown",
      "execution_count": null,
      "metadata": {},
      "outputs": [],
      "source": [
        "We can also use extrapolation. For gpr, the extrapolation is built in in the algorithm (as well as its uncertainties). For the analytical methods, the model uncertainty for extrapolation is determined from comparing extrapolation using the \"nearest\" method (the extrapolated values are equal to the bound values) and using the \"extrapolate\" method (the extrapolated values are calculated using the same method as the interpolation method; e.g. linear extrapolation is used when selecting linear interpolation). When determining model uncertainties, the interpolation method is varied in order to quantify the uncertainties (see above). This variation in the interpolation method will also affect the extrapolation as different methods will be used when selecting the \"extrapolate\" option."
      ]
    },
    {
      "cell_type": "code",
      "execution_count": null,
      "metadata": {},
      "outputs": [],
      "source": [
        "x2=np.arange(0,3.5,0.02)\n",
        "y6,u_y6= cm.interpolate_1d(xi,yi,x2,method=\"gpr\",u_y_i=u_yi,min_scale=0.3,return_uncertainties=True,return_corr=False)\n",
        "y7,u_y7=cm.interpolate_1d(xi,yi,x2,method=\"cubic\",extrapolate=\"extrapolate\",return_uncertainties=True,return_corr=False)"
      ]
    },
    {
      "cell_type": "markdown",
      "execution_count": null,
      "metadata": {},
      "outputs": [],
      "source": [
        "Next, we plot the results:"
      ]
    },
    {
      "cell_type": "code",
      "execution_count": null,
      "metadata": {},
      "outputs": [],
      "source": [
        "fig=plt.figure(figsize=(10,5))\n",
        "ax = fig.add_subplot(1, 1, 1)\n",
        "ax.plot(x, function2(x), \"k\", label=\"true values\")\n",
        "ax.errorbar(xi, yi, yerr=u_yi, fmt=\"ko\", ls=None, label=\"observed values\")\n",
        "ax.plot(x, y, \"b:\", label=\"quadratic interpolation\")\n",
        "ax.plot(x, y2, \"r:\", label=\"cubic interpolation (model error only)\")\n",
        "ax.fill_between(\n",
        "x,\n",
        "y2 - 1.9600 * u_y2,\n",
        "(y2 + 1.9600 * u_y2),\n",
        "alpha=0.25,\n",
        "fc=\"r\",\n",
        "ec=\"None\",\n",
        "label=\"95% confidence interval\",\n",
        "lw=0,\n",
        ")\n",
        "ax.plot(x, y2, \"m\", label=\"cubic interpolation\")\n",
        "ax.fill_between(\n",
        "x,\n",
        "y2 - 1.9600 * u_y2,\n",
        "(y2 + 1.9600 * u_y2),\n",
        "alpha=0.25,\n",
        "fc=\"m\",\n",
        "ec=\"None\",\n",
        "label=\"95% confidence interval\",\n",
        "lw=0,\n",
        ")\n",
        "ax.plot(x, y4, \"g\", label=\"gpr interpolation\")\n",
        "ax.fill_between(\n",
        "x,\n",
        "y4 - 1.9600 * u_y4,\n",
        "(y4 + 1.9600 * u_y4),\n",
        "alpha=0.25,\n",
        "fc=\"g\",\n",
        "ec=\"None\",\n",
        "label=\"95% confidence interval\",\n",
        "lw=0,\n",
        ")\n",
        "ax.plot(x, y5, \"c\", label=\"gpr interpolation with systematic measurement error\")\n",
        "ax.fill_between(\n",
        "x,\n",
        "y5 - 1.9600 * u_y5,\n",
        "(y5 + 1.9600 * u_y5),\n",
        "alpha=0.25,\n",
        "fc=\"c\",\n",
        "ec=\"None\",\n",
        "label=\"95% confidence interval\",\n",
        "lw=0,\n",
        ")\n",
        "ax.plot(x2, y6, \"g--\", label=\"gpr interpolation with extrapolation\")\n",
        "ax.fill_between(\n",
        "x2,\n",
        "y6 - 1.9600 * u_y6,\n",
        "(y6 + 1.9600 * u_y6),\n",
        "alpha=0.15,\n",
        "fc=\"g\",\n",
        "ec=\"None\",\n",
        "lw=0,\n",
        ")\n",
        "ax.plot(x2, y7, \"m--\", label=\"cubic interpolation with extrapolation\")\n",
        "ax.fill_between(\n",
        "x2,\n",
        "y7 - 1.9600 * u_y7,\n",
        "(y7 + 1.9600 * u_y7),\n",
        "alpha=0.15,\n",
        "fc=\"m\",\n",
        "ec=\"None\",\n",
        "lw=0,\n",
        ")\n",
        "ax.set_ylim(-5,5)\n",
        "ax.legend(ncol=2)\n",
        "fig.show()\n",
        "\n",
        "fig2=plt.figure(figsize=(10,5))\n",
        "ax = fig2.add_subplot(1, 3, 1)\n",
        "ax2 = fig2.add_subplot(1, 3, 2)\n",
        "ax3 = fig2.add_subplot(1, 3, 3)\n",
        "p1=ax.imshow(corr_y2, vmin=-1, vmax=1, cmap=\"bwr\")\n",
        "ax.set_title(\"cubic interpolation (model error only)\")\n",
        "p2=ax2.imshow(corr_y3, vmin=-1, vmax=1, cmap=\"bwr\")\n",
        "ax2.set_title(\"cubic interpolation\")\n",
        "p3=ax3.imshow(corr_y5, vmin=-1, vmax=1, cmap=\"bwr\")\n",
        "ax3.set_title(\"gpr interpolation with systematic measurement error\")\n",
        "fig2.colorbar(p2)\n",
        "fig2.show()"
      ]
    },
    {
      "cell_type": "markdown",
      "execution_count": null,
      "metadata": {},
      "outputs": [],
      "source": []
    },
    {
      "cell_type": "markdown",
      "execution_count": null,
      "metadata": {},
      "outputs": [],
      "source": [
        "1D interpolation along high-resolution example\n",
        "------------------------------------------------"
      ]
    },
    {
      "cell_type": "markdown",
      "execution_count": null,
      "metadata": {},
      "outputs": [],
      "source": [
        "We again start by defining some example data, and do an interpolation alond a high resolution example without uncertainties, followed by an example with uncertainties. Here we do have "
      ]
    },
    {
      "cell_type": "code",
      "execution_count": null,
      "metadata": {},
      "outputs": [],
      "source": [
        "xi = np.arange(0, 2.8, 0.25)\n",
        "yi = function2(xi)\n",
        "u_yi = 0.03 * np.ones_like(yi)\n",
        "yi = cm.generate_sample(1, yi, u_yi, corr_x=\"rand\").squeeze()\n",
        "x_HR = np.arange(-0.5, 4., 0.09)\n",
        "y_HR = function2(x_HR)\n",
        "u_y_HR_syst = 0.9 * np.ones_like(y_HR)\n",
        "u_y_HR_rand = 0.02 * y_HR\n",
        "cov_y_HR = cm.convert_corr_to_cov(\n",
        "    np.ones((len(y_HR), len(y_HR))), u_y_HR_syst\n",
        ") + cm.convert_corr_to_cov(np.eye(len(y_HR)), u_y_HR_rand)\n",
        "corr_y_HR = cm.correlation_from_covariance(cov_y_HR)\n",
        "u_y_HR = cm.uncertainty_from_covariance(cov_y_HR)\n",
        "\n",
        "y_HR = cm.generate_sample(1, y_HR, u_y_HR, corr_x=corr_y_HR)\n",
        "\n",
        "xx = np.arange(0.1, 2.5, 0.02)\n",
        "\n",
        "y_hr_cubic = cm.interpolate_1d_along_example(\n",
        "    xi,\n",
        "    yi,\n",
        "    x_HR,\n",
        "    y_HR,\n",
        "    xx,\n",
        "    relative=False,\n",
        "    method=\"cubic\",\n",
        "    method_hr=\"cubic\",\n",
        ")\n",
        "\n",
        "y_hr_cubic2, u_y_hr_cubic2 = cm.interpolate_1d_along_example(\n",
        "    xi,\n",
        "    yi,\n",
        "    x_HR,\n",
        "    y_HR,\n",
        "    xx,\n",
        "    relative=False,\n",
        "    method=\"cubic\",\n",
        "    method_hr=\"cubic\",\n",
        "    u_y_i=u_yi,\n",
        "    corr_y_i=\"rand\",\n",
        "    u_y_hr=u_y_HR,\n",
        "    corr_y_hr=\"syst\",\n",
        "    return_uncertainties=True,\n",
        "    plot_residuals=True,\n",
        "    return_corr=False,\n",
        ")"
      ]
    },
    {
      "cell_type": "markdown",
      "execution_count": null,
      "metadata": {},
      "outputs": [],
      "source": [
        "Then, we calculate (for comparison), the interpolated data points and uncertainties using the gpr method when not using a high resolution example. Here the min_scale needs to be set again. Next, we also use the gpr method together with using a high resolution example, without and with uncertainties."
      ]
    },
    {
      "cell_type": "code",
      "execution_count": null,
      "metadata": {},
      "outputs": [],
      "source": [
        "y_gpr, u_y_gpr = cm.interpolate_1d(\n",
        "    xi,\n",
        "    yi,\n",
        "    xx,\n",
        "    method=\"gpr\",\n",
        "    u_y_i=u_yi,\n",
        "    min_scale=0.3,\n",
        "    return_uncertainties=True,\n",
        ")\n",
        "\n",
        "y_hr_gpr = cm.interpolate_1d_along_example(\n",
        "    xi,\n",
        "    yi,\n",
        "    x_HR,\n",
        "    y_HR,\n",
        "    xx,\n",
        "    relative=False,\n",
        "    method=\"gpr\",\n",
        "    method_hr=\"gpr\",\n",
        "    min_scale=0.3,\n",
        ")\n",
        "y_hr_gpr2, u_y_hr_gpr2= cm.interpolate_1d_along_example(\n",
        "    xi,\n",
        "    yi,\n",
        "    x_HR,\n",
        "    y_HR,\n",
        "    xx,\n",
        "    relative=False,\n",
        "    method=\"gpr\",\n",
        "    method_hr=\"gpr\",\n",
        "    u_y_i=u_yi,\n",
        "    u_y_hr=u_y_HR,\n",
        "    corr_y_i=\"rand\",\n",
        "    corr_y_hr=corr_y_HR,\n",
        "    min_scale=0.3,\n",
        "    return_uncertainties=True,\n",
        "    plot_residuals=False,\n",
        "    return_corr=False\n",
        ")"
      ]
    },
    {
      "cell_type": "markdown",
      "execution_count": null,
      "metadata": {},
      "outputs": [],
      "source": [
        "As a sanity check, we can propagate the uncertainties externally to the comet_maths tool. We can use the punpy tool to this. This is effectively what happens internally when propagating the measurement uncertainties through the tool. In order to do this, we use the Interpolator class since this has predefined functions that take the right input quantities as arguments, and where all other optional parameters are set in the class initialiser. Here, we set add_model_error to true, so that in each MC iterations a model error is added to account for the uncertainty in the interpolation method."
      ]
    },
    {
      "cell_type": "code",
      "execution_count": null,
      "metadata": {},
      "outputs": [],
      "source": [
        "mcprop = punpy.MCPropagation(100, parallel_cores=4)\n",
        "\n",
        "inp2 = cm.Interpolator(\n",
        "    relative=False, method=\"gpr\", method_hr=\"gpr\", min_scale=0.3,add_model_error=True\n",
        ")\n",
        "u_y_hr, corr2 = mcprop.propagate_random(\n",
        "    inp2.interpolate_1d_along_example,\n",
        "    [xi, yi, x_HR, y_HR, xx],\n",
        "    [None, u_yi, None, u_y_HR, None],\n",
        "    corr_x=[None, \"rand\", None, corr_y_HR, None],return_corr=True\n",
        ")"
      ]
    },
    {
      "cell_type": "markdown",
      "execution_count": null,
      "metadata": {},
      "outputs": [],
      "source": [
        "We also again give an example with extrapolation:"
      ]
    },
    {
      "cell_type": "code",
      "execution_count": null,
      "metadata": {},
      "outputs": [],
      "source": [
        "xx2= np.arange(0.1, 3.5, 0.02)\n",
        "y_hr_gpr3, u_y_hr_gpr3= cm.interpolate_1d_along_example(\n",
        "    xi,\n",
        "    yi,\n",
        "    x_HR,\n",
        "    y_HR,\n",
        "    xx2,\n",
        "    relative=False,\n",
        "    method=\"gpr\",\n",
        "    method_hr=\"gpr\",\n",
        "    u_y_i=u_yi,\n",
        "    u_y_hr=u_y_HR,\n",
        "    corr_y_i=\"rand\",\n",
        "    corr_y_hr=corr_y_HR,\n",
        "    min_scale=0.3,\n",
        "    extrapolate=\"nearest\",\n",
        "    return_uncertainties=True,\n",
        "    plot_residuals=False,\n",
        "    return_corr=False\n",
        ")"
      ]
    },
    {
      "cell_type": "markdown",
      "execution_count": null,
      "metadata": {},
      "outputs": [],
      "source": [
        "Finally, we again make some plots:"
      ]
    },
    {
      "cell_type": "code",
      "execution_count": null,
      "metadata": {},
      "outputs": [],
      "source": [
        "fig3=plt.figure(figsize=(10,5))\n",
        "ax = fig3.add_subplot(1, 1, 1)\n",
        "ax.plot(xx, function2(xx), \"b\", label=\"True line\")\n",
        "ax.plot(xi, yi, \"ro\", label=\"low-res data\")\n",
        "ax.plot(x_HR, y_HR, \"go\", label=\"high-res data\")\n",
        "ax.plot(\n",
        "    xx,\n",
        "    cm.interpolate_1d(xi, yi, xx, method=\"cubic\"),\n",
        "    \"r:\",\n",
        "    label=\"cubic spline interpolation\",\n",
        ")\n",
        "ax.plot(xx, y_gpr, \"c:\", label=\"GPR interpolation\")\n",
        "ax.plot(xx, y_hr_gpr, \"g\", label=\"GPR interpolation with HR example\")\n",
        "ax.fill_between(xx,y_hr_gpr2-1.9600*u_y_hr_gpr2,(y_hr_gpr2+1.9600*u_y_hr_gpr2),alpha=0.25,fc=\"g\",ec=\"None\",\n",
        "                    label=\"95% confidence interval\",lw=0)\n",
        "ax.plot(xx2, y_hr_gpr3, \"g--\", label=\"GPR interpolation with HR example and extrapolation\")\n",
        "ax.fill_between(xx2,y_hr_gpr3-1.9600*u_y_hr_gpr3,(y_hr_gpr3+1.9600*u_y_hr_gpr3),alpha=0.15,fc=\"g\",ec=\"None\",\n",
        "                    lw=0)\n",
        "ax.plot(\n",
        "    xx, y_hr_cubic, \"m-.\", label=\"cubic spline interpolation with HR example\"\n",
        ")\n",
        "ax.fill_between(\n",
        "    xx,\n",
        "    y_hr_cubic2 - 1.9600 * u_y_hr_cubic2,\n",
        "    (y_hr_cubic2 + 1.9600 * u_y_hr_cubic2),\n",
        "    alpha=0.25,\n",
        "    fc=\"m\",\n",
        "    ec=\"None\",\n",
        "    label=\"95% confidence interval\",\n",
        "    lw=0,\n",
        ")\n",
        "ax.legend(ncol=2, prop={\"size\": 6})\n",
        "ax.set_ylim(-5,5)"
      ]
    }
  ]
}