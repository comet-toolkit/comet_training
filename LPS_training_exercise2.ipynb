{
  "cells": [
    {
      "cell_type": "markdown",
      "metadata": {
        "id": "view-in-github",
        "colab_type": "text"
      },
      "source": [
        "<a href=\"https://colab.research.google.com/github/comet-toolkit/comet_training/blob/main/LPS_training_exercise2.ipynb\" target=\"_parent\"><img src=\"https://colab.research.google.com/assets/colab-badge.svg\" alt=\"Open In Colab\"/></a>"
      ]
    },
    {
      "cell_type": "markdown",
      "metadata": {
        "id": "5-upOzlp_cLS"
      },
      "source": [
        "**LPS Hands-on Training Session - CoMet Toolkit: Uncertainties made easy**\n",
        "\n",
        "#Exercise 2: Multi-Dimension Datasets\n",
        "\n",
        "## Objectives\n",
        "\n",
        "In this exercise we will cover:\n",
        "\n",
        "* How to use [**obsarray**](https://obsarray.readthedocs.io/en/latest/) to store error-correlation information for multi-dimensional measurement datasets - such as from Earth Observation.\n",
        "* Propagating uncertainties from these datasets through measurement functions using [**punpy**](https://punpy.readthedocs.io/en/latest/)."
      ]
    },
    {
      "cell_type": "markdown",
      "metadata": {
        "id": "geTn1KRyTOy6"
      },
      "source": [
        "## *Step 1* - Environment Setup\n",
        "\n",
        "As in Exercise 1, we start by collecting test data and installing and importing the required CoMet Toolkit packages --- [**obsarray**](https://obsarray.readthedocs.io/en/latest/) and [**punpy**](https://punpy.readthedocs.io/en/latest/)."
      ]
    },
    {
      "cell_type": "code",
      "execution_count": null,
      "metadata": {
        "id": "s7yYvW9g_YIF"
      },
      "outputs": [],
      "source": [
        "# Clone the CoMet Training repository to access training data\n",
        "!git clone https://github.com/comet-toolkit/comet_training.git"
      ]
    },
    {
      "cell_type": "code",
      "execution_count": null,
      "metadata": {
        "id": "KNU2gvtB6D8k"
      },
      "outputs": [],
      "source": [
        "# Install CoMet Toolkit packages\n",
        "!pip install obsarray>=1.0.1\n",
        "!pip install punpy>=1.0.4"
      ]
    },
    {
      "cell_type": "code",
      "execution_count": null,
      "metadata": {
        "id": "HA6PmEaC6ED1"
      },
      "outputs": [],
      "source": [
        "# Import packages\n",
        "import obsarray\n",
        "import punpy\n",
        "import xarray as xr\n",
        "import numpy as np\n",
        "import warnings\n",
        "warnings.filterwarnings('ignore') # hide any confusing warnings!"
      ]
    },
    {
      "cell_type": "markdown",
      "metadata": {
        "id": "48g5MLJXIJsP"
      },
      "source": [
        "CoMet Toolkit's [**obsarray**](https://obsarray.readthedocs.io/en/latest/) package is an extension to the popular [xarray](https://docs.xarray.dev/en/stable/) package.\n",
        "\n",
        "[`xarray.Dataset`](https://docs.xarray.dev/en/stable/user-guide/data-structures.html#dataset)'s are objects in python that represent the data model of the [netCDF file format](https://www.unidata.ucar.edu/software/netcdf/). **obsarray** allows you to assign uncertainties to variables in xarray Datasets, with their associated error-correlation.\n",
        "\n",
        "This is achieved by using the CoMet Toolkit's draft [UNC Specification](https://comet-toolkit.github.io/unc_website/) metadata standard for dataset variable attributes. So such objects are portable, and can be stored to and from netCDF files on disc.\n"
      ]
    },
    {
      "cell_type": "markdown",
      "metadata": {
        "id": "S1VYgCHhTSm3"
      },
      "source": [
        "## *Step 2* - Interfacing with a Measurement Dataset using **obsarray**\n",
        "\n",
        "In this step of the exercise, we will explore how to define and interact with the *uncertainty variables* (i.e., uncertainty components) associated with *observation variables* in measurement datasets using **obsarray**.\n",
        "\n",
        "Our example will be a multi-spectral dataset of Level 1 (L1) [Brightness Temperatures](https://en.wikipedia.org/wiki/Brightness_temperature) (BT) from the AVHRR sensor on MetOp-A. This [dataset](https://catalogue.ceda.ac.uk/uuid/14a8098d70714cc1bf38f9dbcb82e5ed/) was created as part of the [FIDUCEO](https://research.reading.ac.uk/fiduceo/) project.\n",
        "\n",
        "Here we open an extract contained in a [netCDF](https://www.unidata.ucar.edu/software/netcdf/) file, which has an observation variable -- `bt` -- with the following dimensions:\n",
        "\n",
        "* $y$, along track -- 100 pixels at 1 km resolution\n",
        "* $x$, across track -- 100 pixels at 1 km resolution\n",
        "* $band$, spectral bands -- 2 thermal infrared (TIR) bands, called Channel 4 and 5, centred on $\\sim$11 μm and 12 μm\n"
      ]
    },
    {
      "cell_type": "code",
      "execution_count": null,
      "metadata": {
        "id": "Wimlaz9hITFc"
      },
      "outputs": [],
      "source": [
        "# open xarray.Dataset from netCDF file\n",
        "dataset_path = \"comet_training/avhrr_ds.nc\"\n",
        "avhrr_ds = xr.open_dataset(dataset_path)\n",
        "\n",
        "# inspect dataset\n",
        "print(avhrr_ds)\n",
        "avhrr_ds[\"bt\"][0].plot()"
      ]
    },
    {
      "cell_type": "markdown",
      "metadata": {
        "id": "kmIJ9Yp7R_aR"
      },
      "source": [
        "After import, **obsarray** functionality is accessed throught the `unc` \"[accessor](https://docs.xarray.dev/en/stable/internals/extending-xarray.html)\" -- which looks like a new method that becomes available on xarray Datasets.\n",
        "\n",
        "We can use this to [assign an *uncertainty variable*](https://obsarray.readthedocs.io/en/latest/content/user/unc_accessor.html#adding-removing-uncertainty-components) to the `bt` variable, in a very similar way to adding a normal variable to an xarray Dataset:"
      ]
    },
    {
      "cell_type": "code",
      "execution_count": null,
      "metadata": {
        "id": "zqXPilMwSgpt"
      },
      "outputs": [],
      "source": [
        "# define u_noise values - set as 0.5%\n",
        "u_noise_values = avhrr_ds[\"bt\"].values * 0.005\n",
        "\n",
        "# add an uncertainty component associated with noise error to the brightness temperature\n",
        "avhrr_ds.unc[\"bt\"][\"u_bt_noise\"] = ([\"band\", \"y\", \"x\"], u_noise_values, {\"units\": \"K\"})"
      ]
    },
    {
      "cell_type": "code",
      "execution_count": null,
      "metadata": {
        "id": "lSsESdK75GCU"
      },
      "outputs": [],
      "source": [
        "# inspect ds variables\n",
        "print(avhrr_ds)"
      ]
    },
    {
      "cell_type": "markdown",
      "metadata": {
        "id": "tsWrx8i9W235"
      },
      "source": [
        "Uncertainty variables have an assocaited error-correlation structure -- since we didn't define this for `u_noise`, it is assumed to be random (i.e., errors are uncorrelated between pixels).\n",
        "\n",
        "Next let's add a calibration uncertainty component, `u_bt_cal`, with a more complicated error-correlation structure using the `err_corr` attribute. This uses the [error-correlation parameterisations](https://comet-toolkit.github.io/unc_website/specification/draft-v0.1/unc_specification.html#appendix-a-error-correlation-parameterisations) defined by the draft UNC Specfication (it is also possible to add custom error-correlation parameterisations).\n",
        "\n",
        "Let's set the pixel errors associated with `u_bt_cal` to be systematic (i.e., the same/common) in the `x` and `y` dimension and defined by a custom matrix in the `band` dimension."
      ]
    },
    {
      "cell_type": "code",
      "execution_count": null,
      "metadata": {
        "id": "MsbjwLUMWqcr"
      },
      "outputs": [],
      "source": [
        "# create cross-channel error-correlation matrix\n",
        "chl_err_corr_matrix = np.array([[1.0, 0.7],[0.7, 1.0]])\n",
        "avhrr_ds[\"chl_err_corr_matrix\"] = ((\"band1\", \"band2\"), chl_err_corr_matrix)\n",
        "\n",
        "# use this to define error-correlation parameterisation attribute\n",
        "err_corr_def = [\n",
        "    # fully systematic in the x and y dimension\n",
        "    {\n",
        "        \"dim\": [\"y\", \"x\"],\n",
        "        \"form\": \"systematic\",\n",
        "        \"params\": [],\n",
        "        \"units\": []\n",
        "    },\n",
        "    # defined by err-corr matrix var in band dimension\n",
        "    {\n",
        "        \"dim\": [\"band\"],\n",
        "        \"form\": \"err_corr_matrix\",\n",
        "        \"params\": [\"chl_err_corr_matrix\"],  # defines link to err-corr matrix var\n",
        "        \"units\": []\n",
        "    }\n",
        "]\n",
        "\n",
        "# define u_cal values - set as 1%\n",
        "u_cal_values = avhrr_ds[\"bt\"].values * 0.01\n",
        "\n",
        "# add an uncertainty component associated with calibration error to the brightness temperature\n",
        "avhrr_ds.unc[\"bt\"][\"u_bt_cal\"] = (\n",
        "    [\"band\", \"y\", \"x\"],\n",
        "    u_cal_values,\n",
        "    {\"err_corr\": err_corr_def, \"units\": \"K\"}\n",
        ")"
      ]
    },
    {
      "cell_type": "markdown",
      "metadata": {
        "id": "gkwaWcdAc3Qb"
      },
      "source": [
        "We can now interface with this information using the `unc` accessor,"
      ]
    },
    {
      "cell_type": "code",
      "execution_count": null,
      "metadata": {
        "id": "T4StS115iBhT"
      },
      "outputs": [],
      "source": [
        "avhrr_ds.unc[\"bt\"]"
      ]
    },
    {
      "cell_type": "markdown",
      "metadata": {
        "id": "U5XuLUGd7R6D"
      },
      "source": [
        "For example, we can use it to evaluate information about the dataset combined error-covariance,"
      ]
    },
    {
      "cell_type": "code",
      "execution_count": null,
      "metadata": {
        "id": "MoXyTWuy7cyY"
      },
      "outputs": [],
      "source": [
        "# Evaluate total uncertainty for bands at pixel (0,0)\n",
        "u_tot = avhrr_ds.unc[\"bt\"][:,0,0].total_unc()\n",
        "print(\"Total Uncertainty per Band:\")\n",
        "print(u_tot.values)\n",
        "\n",
        "# Evaluate combined band-to-band err-corr matrix for pixel (0,0)\n",
        "err_corr_tot = avhrr_ds.unc[\"bt\"][:,0,0].total_err_corr_matrix()\n",
        "print(\"\\nTotal Error Correlation between Bands:\")\n",
        "print(err_corr_tot.values)"
      ]
    },
    {
      "cell_type": "markdown",
      "metadata": {
        "id": "hk0BoZECiCPH"
      },
      "source": [
        "# *Step 3* - Uncertainty Propagation\n",
        "\n",
        "Thermal Infrared multi-spectral data, like our example AVHRR dataset, is used to develop Level 2 (L2) Climate Data Records (CDRs) such as Sea or Land Surface Temperature (SST or LST). SST/LST retriavals account for the atmosphere to evaluate the surface temperature from the top of atmosphere L1 brightness temperature.\n",
        "\n",
        "A widely approach for this is called the \"split window\" method. A simplified form of this algorithm could be represented as,\n",
        "\n",
        "$SST = a T_{11} - b T_{12}$\n",
        "\n",
        "where:\n",
        "\n",
        "* $T_{11}$​ is the brightness temperature in the 11 μm band\n",
        "* $T_{12}$​ is the brightness temperature in the 12 μm band\n",
        "* $a$ & $b$ are empirically derived retrieval coefficients\n",
        "\n",
        "For the purpose of the exercise, set $a=2$ and $b=1$.\n",
        "\n",
        "## **Exercise**\n",
        "\n",
        "Using what we learned in [Exercise 1](https://colab.research.google.com/github/comet-toolkit/comet_training/blob/main/LPS_training_exercise1.ipynb), create a measurement function to apply the SST retrieval to our AVHRR dataset and propagate the uncertainties using **punpy**."
      ]
    },
    {
      "cell_type": "code",
      "execution_count": null,
      "metadata": {
        "id": "2LXATlPNl50l"
      },
      "outputs": [],
      "source": [
        "# Enter your code here"
      ]
    },
    {
      "cell_type": "markdown",
      "source": [
        "But is there a simpler approach to do this..."
      ],
      "metadata": {
        "id": "eMSwSSwRlnim"
      }
    },
    {
      "cell_type": "markdown",
      "metadata": {
        "id": "WXtbn00KmTsM"
      },
      "source": [
        "# *Extension* - Propagating Dataset Uncertainties with the `MeasurementFunction` Class\n",
        "\n",
        "**punpy**'s [`MeasurementFunction`](https://punpy.readthedocs.io/en/latest/content/punpy_digital_effects_table.html#measurement-function) class enables a much simpler method for propagating the uncertainties of measurement datasets defined using **obsarray**. It is an alternative interface to the **punpy** propagation functions we used in Step 3.\n",
        "\n",
        "For this approach instead defining the measurement function as a python function, we define a measurement function class which should be a subclass of the **punpy** `MeasurementFunction` class. We can then use the class's [`propagate_ds`](https://punpy.readthedocs.io/en/latest/content/punpy_digital_effects_table.html#functions-for-propagating-uncertainties) method to propagate all dataset uncertainties in one go!"
      ]
    },
    {
      "cell_type": "code",
      "execution_count": null,
      "metadata": {
        "id": "IVUlxJvJmkm1"
      },
      "outputs": [],
      "source": [
        "class SplitWindowSST(punpy.MeasurementFunction):\n",
        "    #\n",
        "    # define primary method of class - the measurement function\n",
        "    #\n",
        "    def meas_function(self, bt: np.ndarray) -> np.ndarray:\n",
        "        \"\"\"\n",
        "        Returns SST from input L1 BTs using split window method\n",
        "\n",
        "        :param bt: brightness temperature datacube\n",
        "        :returns: evaluated SST\n",
        "        \"\"\"\n",
        "\n",
        "        # set parameter values\n",
        "        a = 2\n",
        "        b = 1\n",
        "\n",
        "        # evaluate SST\n",
        "        sst = a * bt[0,:,:] - b * bt[1,:,:]\n",
        "\n",
        "        return sst\n",
        "\n",
        "    #\n",
        "    # define helper methods to configure class\n",
        "    #\n",
        "    def get_measurand_name_and_unit(self) -> tuple[str, str]:\n",
        "        \"\"\"\n",
        "        For dataset evaluate by measurement function, returns a tuple of\n",
        "        measurand variable name and units\n",
        "\n",
        "        :returns: measurand name, measurand unit name\n",
        "        \"\"\"\n",
        "        return \"sst\", \"K\"\n",
        "\n",
        "    def get_argument_names(self) -> list[str]:\n",
        "        \"\"\"\n",
        "        Returns orders list input dataset variables names associated with\n",
        "        meas_function arguments\n",
        "\n",
        "        :returns: input dataset variable names\n",
        "        \"\"\"\n",
        "        return [\"bt\"]\n",
        "\n",
        "# create punpy propagation object\n",
        "prop = punpy.MCPropagation(100, parallel_cores=1)\n",
        "\n",
        "# Instatiate measurement function object with prop\n",
        "sst_ret = SplitWindowSST(\n",
        "    prop=prop,\n",
        "    ydims=[\"y\", \"x\"],\n",
        "    sizes_dict={\"y\": 100, \"x\": 100},\n",
        ")\n",
        "\n",
        "# run uncertainty propagation\n",
        "sst_ds = sst_ret.propagate_ds(avhrr_ds, include_corr=False)"
      ]
    },
    {
      "cell_type": "markdown",
      "metadata": {
        "id": "Zejvkr4WpcCr"
      },
      "source": [
        "# **Exercise**\n",
        "\n",
        "Adapt the `MeasurementFunction` class approach above to include error-covariance for the set of parameters $a$ and $b$."
      ]
    },
    {
      "cell_type": "code",
      "execution_count": null,
      "metadata": {
        "id": "a5Ueqor2ptB2"
      },
      "outputs": [],
      "source": [
        "# Enter your code here"
      ]
    },
    {
      "cell_type": "markdown",
      "metadata": {
        "id": "_J4H4iEaaK9t"
      },
      "source": [
        "# **Next Exercise...**\n",
        "\n",
        "In [Exercise 3](https://colab.research.google.com/github/comet-toolkit/comet_training/blob/main/LPS_training_exercise3.ipynb) you will either try to apply these tools to propagate uncertainties for your own usecase, or alternatively try to implement uncertainty propagation for a usecase we have provided."
      ]
    },
    {
      "cell_type": "code",
      "source": [],
      "metadata": {
        "id": "tCUhRrOOdnj6"
      },
      "execution_count": null,
      "outputs": []
    }
  ],
  "metadata": {
    "colab": {
      "provenance": [],
      "include_colab_link": true
    },
    "kernelspec": {
      "display_name": "Python 3",
      "name": "python3"
    },
    "language_info": {
      "name": "python"
    }
  },
  "nbformat": 4,
  "nbformat_minor": 0
}