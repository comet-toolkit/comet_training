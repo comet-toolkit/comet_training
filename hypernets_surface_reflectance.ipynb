{
  "cells": [
    {
      "cell_type": "markdown",
      "metadata": {
        "colab_type": "text",
        "id": "view-in-github"
      },
      "source": [
        "<a href=\"https://colab.research.google.com/github/comet-toolkit/comet_training/blob/main/hypernets_surface_reflectance.ipynb\" target=\"_parent\"><img src=\"https://colab.research.google.com/assets/colab-badge.svg\" alt=\"Open In Colab\"/></a>"
      ]
    },
    {
      "attachments": {},
      "cell_type": "markdown",
      "metadata": {
        "id": "q--XLoo4Z325"
      },
      "source": [
        "**Flags and Uncertainties for HYPERNETS**"
      ]
    },
    {
      "attachments": {},
      "cell_type": "markdown",
      "metadata": {
        "id": "4pxZ7fqqZ6jS"
      },
      "source": [
        "This is an example of how the CoMet toolkit can be used handle flags and propagate uncertainties for the HYPERNETS products.\n",
        "The HYPERNETS products used obsarray to store flags and uncertainties as digital effects tables which include a wide range of quality flags (De Vis et al. 2024a).\n",
        "As such, the uncertainties in the HYPERNETS products can easily be propagated. Here we show a use case of band integrating the publicly distributed HYPERNETS L2B surface reflectance products over the Sentinel-2 spectral response functions. "
      ]
    },
    {
      "attachments": {},
      "cell_type": "markdown",
      "metadata": {
        "id": "MzrTVRTqaNE3"
      },
      "source": [
        "We first install the obsarray package (flag handling and accessing uncertainties), the punpy package (uncertainty propagation) and the matheo package (for band integration)."
      ]
    },
    {
      "cell_type": "code",
      "execution_count": null,
      "metadata": {},
      "outputs": [],
      "source": [
        "!pip install obsarray>=1.0.0\n",
        "!pip install punpy>=0.44.2\n",
        "!pip install matheo"
      ]
    },
    {
      "attachments": {},
      "cell_type": "markdown",
      "metadata": {},
      "source": [
        "Next, we open the HYPERNETS L2B data. An example for Gobabeb is used and available from the comet_training repository (which is first cloned). "
      ]
    },
    {
      "cell_type": "code",
      "execution_count": null,
      "metadata": {},
      "outputs": [],
      "source": [
        "!git clone https://github.com/comet-toolkit/comet_training.git"
      ]
    },
    {
      "cell_type": "code",
      "execution_count": null,
      "metadata": {},
      "outputs": [],
      "source": [
        "import xarray as xr\n",
        "import numpy as np\n",
        "\n",
        "ds_HYP = xr.open_dataset(\"comet_training/HYPERNETS_L_GHNA_L2A_REF_20240112T0901_20240315T1804_v2.0.nc\")  # read digital effects table"
      ]
    },
    {
      "attachments": {},
      "cell_type": "markdown",
      "metadata": {},
      "source": [
        "**Flags**"
      ]
    },
    {
      "attachments": {},
      "cell_type": "markdown",
      "metadata": {},
      "source": [
        "The flags that are present in this dataset can be accessed in few different ways.\n",
        "First, there is the basic ways of accesing the flags using xarray:"
      ]
    },
    {
      "cell_type": "code",
      "execution_count": null,
      "metadata": {},
      "outputs": [],
      "source": [
        "print(ds_HYP[\"quality_flag\"].values)\n",
        "print(ds_HYP[\"quality_flag\"].attrs[\"flag_meanings\"])\n",
        "data_flagged_bool=(ds_HYP[\"quality_flag\"] > 0)\n",
        "flagged_reflectance=ds_HYP[\"reflectance\"].values[:,np.where(data_flagged_bool)[0]]\n",
        "print(flagged_reflectance.shape)"
      ]
    },
    {
      "attachments": {},
      "cell_type": "markdown",
      "metadata": {},
      "source": [
        "This allows the user to access the flags by converting the quality flag integer to a binary number, and assigning each bit to a specific quality flag. In the attributes of the \"quality_flag\" data, the flag meanings for each bit are listed. \n",
        "Rather than manually converting the quality_flag values to binary and then working out which flags were set, obsarray can be used to make this easier.\n",
        "After importing obsarray, the datasets have a .flag attribute which can be used to access the flag variables.\n",
        "These can be used to get whether a certain flag (e.g. outliers), is set for each of the series.\n"
      ]
    },
    {
      "cell_type": "code",
      "execution_count": null,
      "metadata": {},
      "outputs": [],
      "source": [
        "import obsarray\n",
        "from obsarray.templater.dataset_util import DatasetUtil\n",
        "\n",
        "print(ds_HYP.flag[\"quality_flag\"])\n",
        "print(ds_HYP.flag[\"quality_flag\"][\"outliers\"].value.values)\n"
      ]
    },
    {
      "attachments": {},
      "cell_type": "markdown",
      "metadata": {},
      "source": [
        "Obsarray also had a DataSetUtil module, which adds two very useful functions to access the flag information.\n",
        "The get_set_flags() function allows to easily convert the quality_flag values into a list with the names of each set flag. This can also be done for the flags in each series by looping through each of them (see example below).\n",
        "Next, there is a function which allows to pass a list of flags, and the function checks which any of these flags are set for each series, and returns a list of corresponding bools. \n",
        "There is also a function that allows to do the same but requires all of the provided flags to be set in order to return True. "
      ]
    },
    {
      "cell_type": "code",
      "execution_count": null,
      "metadata": {},
      "outputs": [],
      "source": [
        "print([DatasetUtil.get_set_flags(flag) for flag in ds_HYP[\"quality_flag\"]])\n",
        "print(DatasetUtil.get_flags_mask_or(ds_HYP[\"quality_flag\"], [\"outliers\", \"series_missing\"]))\n",
        "print(DatasetUtil.get_flags_mask_and(ds_HYP[\"quality_flag\"], [\"outliers\", \"series_missing\"]))"
      ]
    },
    {
      "attachments": {},
      "cell_type": "markdown",
      "metadata": {},
      "source": [
        "The get_flags_mask_or() is probably one of the most useful functions, as it enables to quickly remove data which has certain flags. "
      ]
    },
    {
      "cell_type": "code",
      "execution_count": null,
      "metadata": {},
      "outputs": [],
      "source": [
        "bad_flags=[\"pt_ref_invalid\", \"half_of_scans_masked\", \"not_enough_dark_scans\", \"not_enough_rad_scans\",\n",
        "           \"not_enough_irr_scans\", \"no_clear_sky_irradiance\", \"variable_irradiance\",\n",
        "           \"half_of_uncertainties_too_big\", \"discontinuity_VNIR_SWIR\", \"single_irradiance_used\"]\n",
        "flagged = DatasetUtil.get_flags_mask_or(ds_HYP[\"quality_flag\"], bad_flags)\n",
        "id_series_valid = np.where(~flagged)[0]\n",
        "ds_HYP = ds_HYP.isel(series=id_series_valid)"
      ]
    },
    {
      "attachments": {},
      "cell_type": "markdown",
      "metadata": {},
      "source": [
        "**Uncertainties**"
      ]
    },
    {
      "attachments": {},
      "cell_type": "markdown",
      "metadata": {},
      "source": [
        "Next we move on to propagating uncertainties. To do this we start by defining the measurement function class. Here we implement a measurement function that does the band integration over the S2A spectral response function."
      ]
    },
    {
      "cell_type": "code",
      "execution_count": null,
      "metadata": {},
      "outputs": [],
      "source": [
        "from punpy import MeasurementFunction\n",
        "from matheo.band_integration import band_integration\n",
        "\n",
        "import time\n",
        "\n",
        "class BandIntegrateS2A(MeasurementFunction):\n",
        "    # your measurement function\n",
        "    def meas_function(self, reflectance, wavelength):\n",
        "        \"\"\"\n",
        "        Function to perform S2A band integration on reflectance\n",
        "\n",
        "        :param reflectance: reflectance spectrum\n",
        "        :param wavelength: wavelengths\n",
        "        \"\"\"\n",
        "        refl_band, band_centres = band_integration.spectral_band_int_sensor(\n",
        "            d=reflectance,\n",
        "            wl=wavelength,\n",
        "            platform_name=\"Sentinel-2A\",\n",
        "            sensor_name=\"MSI\",\n",
        "            u_d=None,\n",
        "        )\n",
        "        return refl_band\n",
        "    \n",
        "    def get_argument_names(self):\n",
        "        \"\"\"\n",
        "        Function that returns the argument names of the meas_func, as they appear in the digital effects table (used to find right variable in input data).  \n",
        "\n",
        "        :return: List of argument names\n",
        "        \"\"\"\n",
        "        return [\"reflectance\", \"wavelength\"]\n",
        "    \n",
        "    def get_measurand_name_and_unit(self):\n",
        "        \"\"\"\n",
        "        Function that returns the measurand name and unit of the meas_func. These will be used to store in the output dataset.  \n",
        "\n",
        "        :return: tuple(measurand name, measurand unit)\n",
        "        \"\"\"\n",
        "        return \"band_reflectance\", \"\"                                          "
      ]
    },
    {
      "attachments": {},
      "cell_type": "markdown",
      "metadata": {},
      "source": [
        "Next, we open the HYPERNETS L2B data. An example for Gobabeb is used and available from the comet_training repository (which is first cloned). "
      ]
    },
    {
      "attachments": {},
      "cell_type": "markdown",
      "metadata": {
        "id": "MWb_xvSoaa6Y"
      },
      "source": [
        "We select a single series from the HYPERNETS data by finding the series for which the angles are nearest to the requested ones:"
      ]
    },
    {
      "cell_type": "code",
      "execution_count": null,
      "metadata": {},
      "outputs": [],
      "source": [
        "vza=0\n",
        "vaa=90\n",
        "vzadiff=(ds_HYP[\"viewing_zenith_angle\"].values - vza)\n",
        "vaadiff=(np.abs(ds_HYP[\"viewing_azimuth_angle\"].values - vaa%360))\n",
        "angledif_series = vzadiff** 2 + vaadiff ** 2\n",
        "id_series = np.where(angledif_series == np.min(angledif_series))[0]\n",
        "ds_HYP = ds_HYP.isel(series=id_series)"
      ]
    },
    {
      "attachments": {},
      "cell_type": "markdown",
      "metadata": {
        "id": "h_td3OAXcUXT"
      },
      "source": [
        "What remains is to create an object of our MeasurementFunction class and propagate the uncertainties in ds_HYP."
      ]
    },
    {
      "cell_type": "code",
      "execution_count": null,
      "metadata": {},
      "outputs": [],
      "source": [
        "from punpy import MCPropagation\n",
        "\n",
        "prop = MCPropagation(100,parallel_cores=1)\n",
        "\n",
        "band_int_S2 = BandIntegrateS2A(prop)\n",
        "ds_HYP_S2 = band_int_S2.propagate_ds(ds_HYP)\n",
        "print(ds_HYP_S2)"
      ]
    },
    {
      "attachments": {},
      "cell_type": "markdown",
      "metadata": {},
      "source": [
        "We note that this process can also be performed on all the series together. \n",
        "One issue here is that, when generating the correlated samples of reflectance, punpy needs to calculate the error correlation matrix of the full dataset.\n",
        "Typically, this will be done by calculating the full error correlation matrix (wavelength.series,wavelength.series), which is a very large matrix. \n",
        "In order to avoid the large RAM requirements of this, we can tell punpy to use error correlation dictionaries (separated by dimension) which take much less memory.\n",
        "To apply the S2 SRF to the full HYPERNETS file we do:"
      ]
    },
    {
      "cell_type": "code",
      "execution_count": null,
      "metadata": {},
      "outputs": [],
      "source": [
        "ds_HYP_full = xr.open_dataset(\"comet_training/HYPERNETS_L_GHNA_L2A_REF_20240112T0901_20240315T1804_v2.0.nc\")  # read digital effects table\n",
        "prop = MCPropagation(100,parallel_cores=1)\n",
        "band_int_S2 = BandIntegrateS2A(prop, use_err_corr_dict=True)\n",
        "ds_HYP_full_S2 = band_int_S2.propagate_ds(ds_HYP_full)\n",
        "print(ds_HYP_full_S2)"
      ]
    }
  ],
  "metadata": {
    "colab": {
      "authorship_tag": "ABX9TyM40nBwQDY7evd+aKCRtcm/",
      "include_colab_link": true,
      "name": "hypernets_surface_reflectance.ipynb",
      "provenance": []
    },
    "kernelspec": {
      "display_name": "Python 3",
      "name": "python3"
    },
    "language_info": {
      "name": "python",
      "version": "3.9.2-final"
    }
  },
  "nbformat": 4,
  "nbformat_minor": 0
}
