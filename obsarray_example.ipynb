{
 "cells": [
  {
   "cell_type": "markdown",
   "execution_count": null,
   "metadata": {},
   "outputs": [],
   "source": [
    "<a href=\"https://colab.research.google.com/github/comet-toolkit/comet_training/blob/main/obsarray_example.ipynb\" target=\"_parent\"><img src=\"https://colab.research.google.com/assets/colab-badge.svg\" alt=\"Open In Colab\"/></a>"
   ]
  },
  {
   "cell_type": "code",
   "execution_count": null,
   "metadata": {},
   "outputs": [],
   "source": [
    "!pip install obsarray"
   ]
  },
  {
   "cell_type": "code",
   "execution_count": null,
   "metadata": {},
   "outputs": [],
   "source": [
    "import xarray as xr\n",
    "import obsarray"
   ]
  },
  {
   "cell_type": "code",
   "execution_count": null,
   "metadata": {},
   "outputs": [],
   "source": [
    "# Read Dataset contents\n",
    "\n",
    "ds = xr.open_dataset(\"obs_example.nc\")"
   ]
  },
  {
   "cell_type": "code",
   "execution_count": null,
   "metadata": {},
   "outputs": [],
   "source": [
    "# Inspect Dataset contents\n",
    "\n",
    "print(\"Observation\", ds.unc.obs_vars)   # Variables with uncertainties\n",
    "print(\"Uncertainty\", ds.unc.unc_vars)   # Uncertainty variables"
   ]
  },
  {
   "cell_type": "code",
   "execution_count": null,
   "metadata": {},
   "outputs": [],
   "source": [
    "# Inspect uncertainty variables for a particular variable\n",
    "\n",
    "print(ds.unc[\"temperature\"])"
   ]
  },
  {
   "cell_type": "code",
   "execution_count": null,
   "metadata": {},
   "outputs": [],
   "source": [
    "# Add uncertainty variable \n",
    "\n",
    "# Define uncertainty variable as tuple: (dims, data, attrs) \n",
    "# where attrs should include:\n",
    "# > \"err_corr\" - error-correlation structure defintion (if omitted assumed random)\n",
    "# > \"pdf_shape\" - uncertainty pdf shape (if omitted assumed gaussian)\n",
    "\n",
    "ds.unc[\"temperature\"][\"u_sys_temperature\"] = (\n",
    "    [\"x\", \"y\", \"time\"],\n",
    "    ds.temperature * 0.03,\n",
    "\t{\n",
    "        \"err_corr\": [\n",
    "            {\n",
    "                \"dim\": \"x\",\n",
    "                \"form\": \"systematic\",\n",
    "                \"params\": [],\n",
    "            },\n",
    "            {\n",
    "                \"dim\": \"y\",\n",
    "                \"form\": \"systematic\",\n",
    "                \"params\": [],\n",
    "            },\n",
    "            {\n",
    "                \"dim\": \"time\",\n",
    "                \"form\": \"systematic\",\n",
    "                \"params\": [],\n",
    "            }\n",
    "        ]\n",
    "    },\n",
    ")\n",
    "\n",
    "# Now inspect again\n",
    "\n",
    "print(ds.unc[\"temperature\"])\n",
    "\n"
   ]
  },
  {
   "cell_type": "code",
   "execution_count": null,
   "metadata": {},
   "outputs": [],
   "source": [
    "# Get total variable uncertainty\n",
    "\n",
    "ds.unc[\"temperature\"].total"
   ]
  },
  {
   "cell_type": "code",
   "execution_count": null,
   "metadata": {},
   "outputs": [],
   "source": [
    "# Get total variable random uncertainty\n",
    "\n",
    "ds.unc[\"temperature\"].random"
   ]
  },
  {
   "cell_type": "code",
   "execution_count": null,
   "metadata": {},
   "outputs": [],
   "source": [
    "# Get total variable systematic uncertainty\n",
    "\n",
    "ds.unc[\"temperature\"].systematic"
   ]
  },
  {
   "cell_type": "code",
   "execution_count": null,
   "metadata": {},
   "outputs": [],
   "source": [
    "# Inspect uncertainty variables\n",
    "for unc_var in ds.unc[\"temperature\"]:\n",
    "    print(unc_var, \"\\n\")"
   ]
  },
  {
   "cell_type": "code",
   "execution_count": null,
   "metadata": {},
   "outputs": [],
   "source": [
    "# Test if uncertainty fully random in all dimensions\n",
    "print(\"u_ran_temperature random: \", ds.unc[\"temperature\"][\"u_ran_temperature\"].is_random)\n",
    "print(\"u_str_temperature random: \", ds.unc[\"temperature\"][\"u_str_temperature\"].is_random)\n",
    "print(\"u_sys_temperature random: \", ds.unc[\"temperature\"][\"u_sys_temperature\"].is_random)\n",
    "\n",
    "# Test if uncertainty fully systematic in all dimensions\n",
    "print(\"u_ran_temperature systematic: \", ds.unc[\"temperature\"][\"u_ran_temperature\"].is_systematic)\n",
    "print(\"u_str_temperature random: \", ds.unc[\"temperature\"][\"u_str_temperature\"].is_systematic)\n",
    "print(\"u_sys_temperature systematic: \", ds.unc[\"temperature\"][\"u_sys_temperature\"].is_systematic)"
   ]
  },
  {
   "cell_type": "code",
   "execution_count": null,
   "metadata": {},
   "outputs": [],
   "source": [
    "# Get uncertainty info for given variable\n",
    "\n",
    "# data (return data array)\n",
    "print(\"Data:\\n\", ds.unc[\"temperature\"][\"u_str_temperature\"].data)\n",
    "\n",
    "# pdf shape\n",
    "print(\"\\nPDF Shape:\\n\", ds.unc[\"temperature\"][\"u_str_temperature\"].pdf_shape)\n",
    "\n",
    "# for error-correlation, error-correlation interface object returned\n",
    "print(\"\\nError Correlation:\\n\", ds.unc[\"temperature\"][\"u_str_temperature\"].err_corr)"
   ]
  },
  {
   "cell_type": "code",
   "execution_count": null,
   "metadata": {},
   "outputs": [],
   "source": [
    "# Inspect error-correlation information\n",
    "ds.unc[\"temperature\"][\"u_str_temperature\"].err_corr.params"
   ]
  },
  {
   "cell_type": "code",
   "execution_count": null,
   "metadata": {},
   "outputs": [],
   "source": [
    "# Inspect error-correlation information for a particular dimension\n",
    "ds.unc[\"temperature\"][\"u_str_temperature\"].err_corr.dim_params(\"x\")"
   ]
  },
  {
   "cell_type": "code",
   "execution_count": null,
   "metadata": {},
   "outputs": [],
   "source": [
    "# Build error-correlation matrix (ordered as ds.variable.flatten())\n",
    "ds.unc[\"temperature\"][\"u_ran_temperature\"].err_corr.to_matrix()"
   ]
  },
  {
   "cell_type": "code",
   "execution_count": null,
   "metadata": {},
   "outputs": [],
   "source": [
    "# Build error-correlation matrix or for one dimension\n",
    "# (or set of dimensions if error-correlation defintion spans multiple dimensions)\n",
    "\n",
    "ds.unc[\"temperature\"][\"u_str_temperature\"].err_corr.to_matrix(dim=\"x\")"
   ]
  },
  {
   "cell_type": "code",
   "execution_count": null,
   "metadata": {},
   "outputs": [],
   "source": []
  }
 ],
 "metadata": {
  "kernelspec": {
   "display_name": "Python 3 (ipykernel)",
   "language": "python",
   "name": "python3"
  },
  "language_info": {
   "codemirror_mode": {
    "name": "ipython",
    "version": 3
   },
   "file_extension": ".py",
   "mimetype": "text/x-python",
   "name": "python",
   "nbconvert_exporter": "python",
   "pygments_lexer": "ipython3",
   "version": "3.9.7"
  }
 },
 "nbformat": 4,
 "nbformat_minor": 2
}