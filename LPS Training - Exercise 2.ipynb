{
  "nbformat": 4,
  "nbformat_minor": 0,
  "metadata": {
    "colab": {
      "provenance": [],
      "include_colab_link": true
    },
    "kernelspec": {
      "name": "python3",
      "display_name": "Python 3"
    },
    "language_info": {
      "name": "python"
    }
  },
  "cells": [
    {
      "cell_type": "markdown",
      "metadata": {
        "id": "view-in-github",
        "colab_type": "text"
      },
      "source": [
        "<a href=\"https://colab.research.google.com/github/comet-toolkit/comet_training/blob/main/LPS%20Training%20-%20Exercise%202.ipynb\" target=\"_parent\"><img src=\"https://colab.research.google.com/assets/colab-badge.svg\" alt=\"Open In Colab\"/></a>"
      ]
    },
    {
      "cell_type": "markdown",
      "source": [
        "**LPS hands-on training session: CoMet Toolkit: Uncertainties made easy**\n",
        "\n",
        "#Exercise 2: Multi-Dimension Datasets\n",
        "\n",
        "## Objectives\n",
        "\n",
        "In this exercise we will cover:\n",
        "\n",
        "* How to use [obsarray](https://obsarray.readthedocs.io/en/latest/) to store error-correlation information for multi-dimensional measurement datasets - such as from Earth Observation.\n",
        "* Propagating uncertainties from these datasets through measurement functions using [punpy](https://punpy.readthedocs.io/en/latest/)."
      ],
      "metadata": {
        "id": "5-upOzlp_cLS"
      }
    },
    {
      "cell_type": "markdown",
      "source": [
        "## Step 1 - Environment Setup\n",
        "\n",
        "As in Exercise 1, we start by install and importing the required CoMet Toolkit packages --- [obsarray](https://obsarray.readthedocs.io/en/latest/) and [punpy](https://punpy.readthedocs.io/en/latest/)."
      ],
      "metadata": {
        "id": "geTn1KRyTOy6"
      }
    },
    {
      "cell_type": "code",
      "execution_count": null,
      "metadata": {
        "id": "s7yYvW9g_YIF"
      },
      "outputs": [],
      "source": [
        "# Install & import CoMet Toolkit packages\n",
        "!pip install obsarray>=1.0.1\n",
        "!pip install punpy>=1.0.4\n",
        "\n",
        "import obsarray\n",
        "import punpy\n",
        "import xarray as xr"
      ]
    },
    {
      "cell_type": "markdown",
      "source": [
        "CoMet Toolkit's [**obsarray**](https://obsarray.readthedocs.io/en/latest/) package is an extension to the popular [xarray](https://docs.xarray.dev/en/stable/) package.\n",
        "\n",
        "[`xarray.Dataset`](https://docs.xarray.dev/en/stable/user-guide/data-structures.html#dataset)'s are objects in python that represent of the data model from the [netCDF file format](https://www.unidata.ucar.edu/software/netcdf/). **obsarray** allows you to assign uncertainties to variables in xarray Datasets, with their associated error-correlation.\n",
        "\n",
        "This is achieved by using the CoMet Toolkit's [UNC Specification](https://comet-toolkit.github.io/unc_website/) metadata standard for uncertainty. So such objects are portable, and can be stored to and from disc.\n"
      ],
      "metadata": {
        "id": "48g5MLJXIJsP"
      }
    },
    {
      "cell_type": "markdown",
      "source": [
        "## Step 2 - Interacting with a Measurement Dataset using obsarray\n",
        "\n",
        "In this step of the exercise, we will explore how to define and interact with the *uncertainty variables* associated with *observation variables* in measurement datasets using obsarray.\n",
        "\n",
        "Our example will be a multi-spectral dataset of Level 1 [Brightness Temperatures](https://en.wikipedia.org/wiki/Brightness_temperature) from the AVHRR sensor on MetOp-A. This [dataset](https://catalogue.ceda.ac.uk/uuid/14a8098d70714cc1bf38f9dbcb82e5ed/) was created as part of the [FIDUCEO](https://research.reading.ac.uk/fiduceo/) project.\n",
        "\n",
        "Here we open an extract from [netCDF](https://www.unidata.ucar.edu/software/netcdf/), which has an observation variable with the following dimensions:\n",
        "\n",
        "* $x$, along track -- 400 pixels at 1 km resolution\n",
        "* $y$, across track -- 400 pixels at 1 km resolution\n",
        "* $band$, spectral bands -- 2 bands centred on $\\sim$11 and 12 $\\mu$m\n"
      ],
      "metadata": {
        "id": "S1VYgCHhTSm3"
      }
    },
    {
      "cell_type": "code",
      "source": [
        "# open xarray.Dataset from netCDF file\n",
        "dataset_path = \"avhrr_dataset.nc\"\n",
        "avhrr_ds = xr.open_dataset(dataset_path)\n",
        "\n",
        "# inspect dataset\n",
        "print(\"Dataset Variables: \" + str(avhrr_ds.keys())\n",
        "avhrr_ds[\"brightness_temperature\"][0].plot()"
      ],
      "metadata": {
        "id": "Wimlaz9hITFc"
      },
      "execution_count": null,
      "outputs": []
    },
    {
      "cell_type": "code",
      "source": [],
      "metadata": {
        "id": "Ibs8Mv4URxbB"
      },
      "execution_count": null,
      "outputs": []
    }
  ]
}