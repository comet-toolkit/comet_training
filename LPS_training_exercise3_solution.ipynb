{
  "cells": [
    {
      "cell_type": "markdown",
      "metadata": {
        "colab_type": "text",
        "id": "view-in-github"
      },
      "source": [
        "<a href=\"https://colab.research.google.com/github/comet-toolkit/comet_training/blob/main/LPS_training_exercise3.ipynb\" target=\"_parent\"><img src=\"https://colab.research.google.com/assets/colab-badge.svg\" alt=\"Open In Colab\"/></a>"
      ]
    },
    {
      "attachments": {},
      "cell_type": "markdown",
      "metadata": {
        "id": "q--XLoo4Z325"
      },
      "source": [
        "## **LPS training session: Exercise 3**"
      ]
    },
    {
      "attachments": {},
      "cell_type": "markdown",
      "metadata": {
        "id": "4pxZ7fqqZ6jS"
      },
      "source": [
        "### **Introduction**\n",
        "\n",
        "Within this exercise, we will run through processing and comparing a bottom-of-atmosphere (BOA) Landsat-9 (L9) matchup with HYPERNETS data over the Gobabeb site in Namibia. \n",
        "This matchup was taken from the list of matchups identified in De Vis et al. (2024; https://doi.org/10.3389/frsen.2024.1323998).\n",
        "\n",
        "We will assume a starting point where the matchup has already been identified and the files have already been downloaded. The matchup is in June 2022.\n",
        "As part of this notebook, we will read in the HYPERNETS data, mask poor-quality data, and process the data to be comparible with L9 (e.g. spectral band integration). The bias will then be calculated and plotted. Your job will be to add uncertainty propagation to this process. These uncertainties will come from the product files themselves, and can be propagated throughout the processing chain using the CoMet toolkit."
      ]
    },
    {
      "attachments": {},
      "cell_type": "markdown",
      "metadata": {
        "id": "MzrTVRTqaNE3"
      },
      "source": [
        "We first install the matheo package, which can be used for band integration."
      ]
    },
    {
      "cell_type": "code",
      "execution_count": null,
      "metadata": {},
      "outputs": [],
      "source": [
        "!pip install matheo==0.1.3"
      ]
    },
    {
      "attachments": {},
      "cell_type": "markdown",
      "metadata": {},
      "source": [
        "We also import all the relevant python packages we use in this training:"
      ]
    },
    {
      "cell_type": "code",
      "execution_count": null,
      "metadata": {},
      "outputs": [],
      "source": [
        "import xarray as xr\n",
        "import numpy as np\n",
        "from punpy import MeasurementFunction, MCPropagation\n",
        "from matheo.band_integration import band_integration\n",
        "from obsarray.templater.dataset_util import DatasetUtil\n",
        "import matplotlib.pyplot as plt"
      ]
    },
    {
      "attachments": {},
      "cell_type": "markdown",
      "metadata": {},
      "source": [
        "Next, we clone the hypernets_training repository, which contains all the datasets used in this training."
      ]
    },
    {
      "cell_type": "code",
      "execution_count": null,
      "metadata": {},
      "outputs": [],
      "source": [
        "!git clone https://github.com/comet-toolkit/comet_training.git"
      ]
    },
    {
      "attachments": {},
      "cell_type": "markdown",
      "metadata": {},
      "source": [
        "**reading in satellite data**"
      ]
    },
    {
      "cell_type": "code",
      "execution_count": null,
      "metadata": {},
      "outputs": [],
      "source": [
        "ds_refl_L9_hyp = xr.load_dataset(\"comet_training/example_L9_20220606.nc\")     # ROI centred on HYPERNETS"
      ]
    },
    {
      "attachments": {},
      "cell_type": "markdown",
      "metadata": {},
      "source": [
        "From these we can determine the reflectance in each band from the mean over the ROI, and its uncertainty (combination of noise and spatial variability) from the standard deviation between pixels:"
      ]
    },
    {
      "cell_type": "code",
      "execution_count": null,
      "metadata": {},
      "outputs": [],
      "source": [
        "bands_L9 = [\"B1\", \"B2\", \"B3\", \"B4\", \"B5\", \"B6\"]\n",
        "wav_L9 = [442.98244284, 482.58889933, 561.33224557, 654.60554515, 864.5708545, 1609.09056245]\n",
        "\n",
        "refl_L9_hyp = np.array([np.mean(ds_refl_L9_hyp[band].values) for band in bands_L9])\n",
        "u_refl_L9_hyp = np.array([np.std(ds_refl_L9_hyp[band].values) for band in bands_L9])"
      ]
    },
    {
      "attachments": {},
      "cell_type": "markdown",
      "metadata": {},
      "source": [
        "**reading in HYPERNETS data**"
      ]
    },
    {
      "attachments": {},
      "cell_type": "markdown",
      "metadata": {},
      "source": [
        "Then, we open the HYPERNETS L2A dataset (surface reflectance without site-specific quality checks). These data were downloaded from the LANDHYPERNET data portal (https://landhypernet.org.uk). "
      ]
    },
    {
      "cell_type": "code",
      "execution_count": null,
      "metadata": {},
      "outputs": [],
      "source": [
        "ds_HYP = xr.open_dataset(\"comet_training/HYPERNETS_L_GHNA_L2A_REF_20220606T0900_20231226T1435_v2.0.nc\")  # read digital effects table"
      ]
    },
    {
      "cell_type": "markdown",
      "metadata": {},
      "source": [
        "Next, to illustrate the LANDHYPERNET data, we make a spectral plot for a specific viewing geometry (), and a polar polot for a specific wavelength (550nm)."
      ]
    },
    {
      "cell_type": "code",
      "execution_count": null,
      "metadata": {},
      "outputs": [],
      "source": [
        "def plot_illustrative_hypernets(dataset, wavelength, series =22):\n",
        "        # first plot the spectrum for an example geometry:\n",
        "\n",
        "        fig = plt.figure(figsize=(15,6))\n",
        "        ax = plt.subplot(121)\n",
        "        ax.plot(dataset[\"wavelength\"].values, dataset[\"reflectance\"].values[:,series], \n",
        "                label = \"HYPERNETS spectrum at vza=%s, vaa=%s\"%(dataset[\"viewing_zenith_angle\"].values[series],dataset[\"viewing_azimuth_angle\"].values[series]))\n",
        "        hyp_unc = dataset[\"reflectance\"].values[:,series] /100 * np.sqrt(dataset[\"u_rel_random_reflectance\"].values[:,series]**2+dataset[\"u_rel_systematic_reflectance\"].values[:,series]**2)\n",
        "        ax.fill_between(\n",
        "          dataset[\"wavelength\"].values, dataset[\"reflectance\"].values[:,series] - hyp_unc, dataset[\"reflectance\"].values[:,series] + hyp_unc, alpha=0.2, color=\"b\"\n",
        "        )\n",
        "        ax.legend()\n",
        "        ax.set_ylim(0,0.6)\n",
        "\n",
        "\n",
        "        #next make a polar plot for given wavelength\n",
        "\n",
        "\n",
        "        saa = np.mean(dataset.solar_azimuth_angle.values % 360)\n",
        "        sza = np.mean(dataset.solar_zenith_angle.values)\n",
        "        vaa = dataset.viewing_azimuth_angle.values % 360\n",
        "\n",
        "        vza = dataset.viewing_zenith_angle.values\n",
        "        refl = dataset.reflectance.values\n",
        "\n",
        "        vaa_grid = np.arange(8, 368, 15)\n",
        "        vza_grid = np.array([0, 5, 10, 20, 30, 40, 50, 60])\n",
        "        raa_grid = vaa_grid - saa\n",
        "\n",
        "        id_wav = np.argmin(np.abs(wavelength - dataset.wavelength.values))\n",
        "\n",
        "        vaa_mesh, vza_mesh = np.meshgrid(np.radians(vaa_grid), vza_grid)\n",
        "\n",
        "        refl_2d = np.zeros((len(vaa_grid), len(vza_grid)))\n",
        "        for i in range(len(vaa_grid)):\n",
        "            for ii in range(len(vza_grid)):\n",
        "                id_series = np.where(\n",
        "                    (\n",
        "                        np.abs(vaa - vaa_grid[i])\n",
        "                        < 2\n",
        "                    )\n",
        "                    & (\n",
        "                        np.abs(vza - vza_grid[ii])\n",
        "                        < 2\n",
        "                    )\n",
        "                )[0]\n",
        "                if len(id_series) == 1:\n",
        "                    refl_2d[i, ii] = np.abs(refl[id_wav, id_series])\n",
        "                elif len(id_series) > 1:\n",
        "                    print(\n",
        "                        \"There are multiple series that match the same vaa (%s) and vza (%s) \"\n",
        "                        \"within a tolerance of %s and %s degrees respectively.\"\n",
        "                        % (\n",
        "                            vaa_grid[i],\n",
        "                            vza_grid[ii],\n",
        "                            2,\n",
        "                            2,\n",
        "                        )\n",
        "                    )\n",
        "                    refl_2d[i, ii] = np.mean(np.abs(refl[id_wav, id_series]))\n",
        "        refl_2d[refl_2d == 0] = np.nan\n",
        "        ax2 = plt.subplot(122, projection='polar')\n",
        "        ax2.set_theta_direction(-1)\n",
        "        ax2.set_theta_offset(np.pi / 2.0)\n",
        "        im = ax2.pcolormesh(\n",
        "            vaa_mesh,\n",
        "            vza_mesh,\n",
        "            refl_2d.T,\n",
        "            shading=\"auto\",\n",
        "            cmap=plt.get_cmap(\"jet\"),\n",
        "        )\n",
        "\n",
        "        ax2.plot(np.radians(saa), sza, color=\"k\", ls=\"none\", marker=\"o\")\n",
        "\n",
        "        cbar = fig.colorbar(im)\n",
        "        cbar.set_label(\"reflectance at %s nm\" % wavelength, rotation=270, labelpad=15)\n",
        "\n",
        "        plt.show()\n",
        "        plt.close(fig)\n",
        "\n",
        "plot_illustrative_hypernets(ds_HYP, 550, series=18)"
      ]
    },
    {
      "attachments": {},
      "cell_type": "markdown",
      "metadata": {},
      "source": [
        "Have a look at the data available in this dataset. As shown in the dimensions of the dataset, the LANDHYPERNETS products samples at 1551 wavelengths and 44 different geometries. "
      ]
    },
    {
      "cell_type": "code",
      "execution_count": null,
      "metadata": {},
      "outputs": [],
      "source": [
        "ds_HYP"
      ]
    },
    {
      "attachments": {},
      "cell_type": "markdown",
      "metadata": {},
      "source": [
        "**masking HYPERNETS data with obsarray (feel free to skip if not interested in flagging)**"
      ]
    },
    {
      "attachments": {},
      "cell_type": "markdown",
      "metadata": {},
      "source": [
        "In the L2A dataset, there is a quality flag variable, which contains quality flags indicating warnings about the data quality. For further information on how to handle these flags, we refer to the following jupyter notebook: https://colab.research.google.com/github/comet-toolkit/comet_training/blob/main/hypernets_surface_reflectance.ipynb . Below, we list the quality flags set in the current dataset (one list for each geometry)."
      ]
    },
    {
      "cell_type": "code",
      "execution_count": null,
      "metadata": {},
      "outputs": [],
      "source": [
        "print([DatasetUtil.get_set_flags(flag) for flag in ds_HYP[\"quality_flag\"]])"
      ]
    },
    {
      "attachments": {},
      "cell_type": "markdown",
      "metadata": {},
      "source": [
        "The data does have a few warnings (especially the missing series - which indicates at least one geometry from the standard sequence is not present in the data), but none of these are an issue for the current usecase. Some other products do contain more significant quality flags, for which we recommend not using this data for Cal/Val if the flag is raised as highlighted below. We next remove all data that has these \"bad\" quality flags set. In the near future, when the data is released publicly, the L2B data will be released, which will already have all these data with \"bad\" quality flags omitted."
      ]
    },
    {
      "cell_type": "code",
      "execution_count": null,
      "metadata": {},
      "outputs": [],
      "source": [
        "\n",
        "bad_flags = [\n",
        "    \"pt_ref_invalid\",\n",
        "    \"half_of_scans_masked\",\n",
        "    \"not_enough_dark_scans\",\n",
        "    \"not_enough_rad_scans\",\n",
        "    \"not_enough_irr_scans\",\n",
        "    \"no_clear_sky_irradiance\",\n",
        "    \"variable_irradiance\",\n",
        "    \"half_of_uncertainties_too_big\",\n",
        "    \"discontinuity_VNIR_SWIR\",\n",
        "    \"single_irradiance_used\",\n",
        "]\n",
        "flagged = DatasetUtil.get_flags_mask_or(ds_HYP[\"quality_flag\"], bad_flags)\n",
        "id_series_valid = np.where(~flagged)[0]\n",
        "ds_HYP = ds_HYP.isel(series=id_series_valid)"
      ]
    },
    {
      "attachments": {},
      "cell_type": "markdown",
      "metadata": {},
      "source": [
        "**extracting relevant data from the files**"
      ]
    },
    {
      "attachments": {},
      "cell_type": "markdown",
      "metadata": {},
      "source": [
        "We note that for the dataset being used here, this does not remove any data. \n",
        "Once we have removed the flagged data, we select the geometry (i.e. series dimension) which most closely matches the satellite viewing angles (which were taken from the satellite data at the region of interest)."
      ]
    },
    {
      "cell_type": "code",
      "execution_count": null,
      "metadata": {},
      "outputs": [],
      "source": [
        "vza_L9 = 0.7\n",
        "#vaa_L9 = 38.1\n",
        "vzadiff = ds_HYP[\"viewing_zenith_angle\"].values - vza_L9\n",
        "#vaadiff = np.abs(ds_HYP[\"viewing_azimuth_angle\"].values - vaa_L9 % 360)\n",
        "angledif_series = np.sqrt(vzadiff**2) # + vaadiff**2)\n",
        "id_series = np.where(angledif_series < 5)[0]\n",
        "ds_HYP = ds_HYP.isel(series=id_series)"
      ]
    },
    {
      "attachments": {},
      "cell_type": "markdown",
      "metadata": {},
      "source": [
        "We do not select on viewing azimuth angle here, as for nadir measurements there is only a single measurement.\n",
        "We do here give a word of caution around using the LANDHYPERNET nadir measurements as these are prone to shadowing. \n",
        "Measurements affected by shadowing will be removed in the L2B files, but are still present in L2A."
      ]
    },
    {
      "attachments": {},
      "cell_type": "markdown",
      "metadata": {},
      "source": [
        "The most relevant variables from the xarray dataset are extracted as numpy arrays:"
      ]
    },
    {
      "cell_type": "code",
      "execution_count": null,
      "metadata": {},
      "outputs": [],
      "source": [
        "wav_HYP_full = ds_HYP[\"wavelength\"].values\n",
        "refl_HYP_full = np.mean(ds_HYP[\"reflectance\"].values,axis=1)\n",
        "u_ran_refl_HYP_full = refl_HYP_full * np.mean(ds_HYP[\"u_rel_random_reflectance\"].values,axis=1) / 100\n",
        "u_sys_refl_HYP_full = refl_HYP_full * np.mean(ds_HYP[\"u_rel_systematic_reflectance\"].values,axis=1) / 100\n",
        "u_refl_HYP_full = np.sqrt(u_ran_refl_HYP_full**2+u_sys_refl_HYP_full**2)  # add random and systematic uncertainties for later plotting\n",
        "err_corr_sys_refl = ds_HYP[\"err_corr_systematic_reflectance\"].values"
      ]
    },
    {
      "attachments": {},
      "cell_type": "markdown",
      "metadata": {},
      "source": [
        "We note that spectrally, the systematic component of the HYPERNETS data is not 100% correlated (but it is fully correlated between repeated measurements/different geometries), but instead an spectral error correlation matrix is provided with the data. "
      ]
    },
    {
      "cell_type": "code",
      "execution_count": null,
      "metadata": {},
      "outputs": [],
      "source": [
        "plt.imshow(err_corr_sys_refl)\n",
        "plt.show()\n",
        "plt.close() "
      ]
    },
    {
      "attachments": {},
      "cell_type": "markdown",
      "metadata": {},
      "source": [
        "**band integration with L9 SRF**"
      ]
    },
    {
      "attachments": {},
      "cell_type": "markdown",
      "metadata": {},
      "source": [
        "The LANDHYPERNET data has a Gaussian spectral response function (SRF) with a width of 3nm for the VNIR sensor (<1000nm) and 10nm for the SWIR sensor (>1000nm). In order to be comparable with the satellite data, we need to spectrally integrate this data to the SRF of the L9 OLI sensor. We here provide a function that performs this band integration using the matheo tool, and returns the first six L9 bands, which we are including in this comparison. "
      ]
    },
    {
      "cell_type": "code",
      "execution_count": null,
      "metadata": {},
      "outputs": [],
      "source": [
        "\n",
        "def band_integrate_L9(reflectance, wavelength):\n",
        "    \"\"\"\n",
        "    Function to perform L9 band integration on reflectance\n",
        "\n",
        "    :param reflectance: reflectance spectrum\n",
        "    :param wavelength: wavelengths\n",
        "    \"\"\"\n",
        "    refl_band, band_centres = band_integration.spectral_band_int_sensor(\n",
        "        d=reflectance,\n",
        "        wl=wavelength,\n",
        "        platform_name=\"Landsat-8\",  # the pyspectral library does not contain the L9 SRF, so we use L8 instead which is very similar.\n",
        "        sensor_name=\"OLI\",\n",
        "        u_d=None,\n",
        "    )\n",
        "    return refl_band[:6]"
      ]
    },
    {
      "attachments": {},
      "cell_type": "markdown",
      "metadata": {},
      "source": [
        "We use this function to perform the band integration:"
      ]
    },
    {
      "cell_type": "code",
      "execution_count": null,
      "metadata": {},
      "outputs": [],
      "source": [
        "refl_HYP = band_integrate_L9(refl_HYP_full,wav_HYP_full)\n"
      ]
    },
    {
      "attachments": {},
      "cell_type": "markdown",
      "metadata": {},
      "source": [
        "**calculating bias**"
      ]
    },
    {
      "attachments": {},
      "cell_type": "markdown",
      "metadata": {},
      "source": [
        "The HYPERNETS data are now at the same spectral scale as the L9 data. All the data is also near simultaneous, in a similar viewing geometry and over a homogeneous surface. So the data is now sufficiently consistent to perform the comparison. We calculate the bias between the satellite and reference as follows:"
      ]
    },
    {
      "cell_type": "code",
      "execution_count": null,
      "metadata": {},
      "outputs": [],
      "source": [
        "bias_hyp = ((refl_L9_hyp / refl_HYP) - 1) * 100"
      ]
    },
    {
      "attachments": {},
      "cell_type": "markdown",
      "metadata": {},
      "source": [
        "We then also define some plotting functions with and without uncertainties (the later is for you to use later):"
      ]
    },
    {
      "cell_type": "code",
      "execution_count": null,
      "metadata": {},
      "outputs": [],
      "source": [
        "def plot_no_uncertainties(\n",
        "    sat: str,\n",
        "    date: str,\n",
        "    sat_wav: np.ndarray,\n",
        "    sat_refl: np.ndarray,\n",
        "    hyp_wav: np.ndarray,\n",
        "    hyp_refl: np.ndarray,\n",
        "    bias: np.ndarray,\n",
        "    wavs_band: np.ndarray,\n",
        "    reflectance_band: np.ndarray,\n",
        "    vza: float,\n",
        "):\n",
        "    \"\"\"\n",
        "    Function to plot matchup results\n",
        "    \n",
        "    :param sat: satellite name\n",
        "    :param date: date of matchup\n",
        "    :param sat_wav: satellite wavelength\n",
        "    :param sat_refl: satellite reflectance \n",
        "    :param hyp_wav: hypernets (full resolution) wavelength\n",
        "    :param hyp_refl: hypernets reflectance\n",
        "    :param bias: hypernets bias (for satellite bands)\n",
        "    :param wavs_band: band-integrated hypernets wavelength\n",
        "    :param reflectance_band: band-integrated hypernets reflectance\n",
        "    :param vza: satellite viewing zenith angle\n",
        "    :return: \n",
        "    \"\"\"\n",
        "    plt.figure(figsize=(20, 12))\n",
        "    plt.subplot(2, 1, 1)\n",
        "    plt.scatter(\n",
        "        wavs_band,\n",
        "        reflectance_band,\n",
        "        marker=\"o\",\n",
        "        color=\"m\",\n",
        "        label=\"HYPERNETS for satellite bands\",\n",
        "    )\n",
        "    plt.scatter(\n",
        "        sat_wav, sat_refl, marker=\"o\", color=\"g\", label=sat\n",
        "    )\n",
        "    \n",
        "    plt.plot(hyp_wav, hyp_refl, \"-b\", label=\"HYPERNETS full-resolution model\")\n",
        "    if sat == \"Landsat-8\" or sat == \"Landsat-9\":\n",
        "        plt.title(\n",
        "            \"Landsat-8/9 (vza=%.1f) vs HYPERNETS TOA Comparison at %s\" % (vza, date),\n",
        "            fontsize=20,\n",
        "        )\n",
        "    else:\n",
        "        plt.title(\n",
        "            \"%s (vza=%.1f) vs HYPERNETS Comparison at %s\" % (sat, vza, date),\n",
        "            fontsize=20,\n",
        "        )\n",
        "    plt.ylabel(\"Reflectance\", fontsize=20)\n",
        "    plt.xlim(380, 1700)\n",
        "    plt.ylim(0.0, 0.6)\n",
        "    plt.xticks(fontsize=20)\n",
        "    plt.yticks(fontsize=20)\n",
        "    plt.legend(loc=2, numpoints=1, scatterpoints=1, facecolor=\"white\")\n",
        "\n",
        "    plt.subplot(2, 1, 2)\n",
        "    plt.scatter(\n",
        "        sat_wav,\n",
        "        bias,\n",
        "        marker=\"o\",\n",
        "        color=\"blue\",\n",
        "        label=\"HYPERNETS-%s bias\" % sat,\n",
        "    )\n",
        "    plt.axhline(y=0, color=\"r\", linestyle=\"--\")\n",
        "    plt.ylabel(\"Relative Difference (%)\", fontsize=20)\n",
        "    plt.xlabel(\"Wavelength (nm)\", fontsize=20)\n",
        "    plt.xlim(380, 1700)\n",
        "    plt.ylim(-10, 10)\n",
        "    plt.xticks(fontsize=20)\n",
        "    plt.yticks(fontsize=20)\n",
        "    plt.legend()\n",
        "    # plt.legend(loc=2, numpoints=1, scatterpoints=1, facecolor='white')\n",
        "    plt.show()\n",
        "    plt.close()\n",
        "\n",
        "def plot_with_uncertainties(\n",
        "    sat: str,\n",
        "    date: str,\n",
        "    sat_wav: np.ndarray,\n",
        "    sat_refl: np.ndarray,\n",
        "    sat_unc: np.ndarray,\n",
        "    hyp_wav: np.ndarray,\n",
        "    hyp_refl: np.ndarray,\n",
        "    hyp_unc: np.ndarray,\n",
        "    bias: np.ndarray,\n",
        "    bias_unc: np.ndarray,\n",
        "    wavs_band: np.ndarray,\n",
        "    reflectance_band: np.ndarray,\n",
        "    reflectance_band_unc: np.ndarray,\n",
        "    vza: float,\n",
        "):\n",
        "    \"\"\"\n",
        "    Function to plot matchup results\n",
        "    \n",
        "    :param sat: satellite name\n",
        "    :param date: date of matchup\n",
        "    :param sat_wav: satellite wavelength\n",
        "    :param sat_refl: satellite reflectance \n",
        "    :param sat_unc: satellite reflectance uncertainty\n",
        "    :param hyp_wav: hypernets (full resolution) wavelength\n",
        "    :param hyp_refl: hypernets reflectance\n",
        "    :param hyp_unc: hypernets reflectance uncertainty\n",
        "    :param bias: hypernets bias (for satellite bands)\n",
        "    :param bias_unc: hypernets bias uncertainty (for satellite bands)\n",
        "    :param wavs_band: band-integrated hypernets wavelength\n",
        "    :param reflectance_band: band-integrated hypernets reflectance\n",
        "    :param reflectance_band_unc: band-integrated hypernets reflectance uncertainty\n",
        "    :param vza: satellite viewing zenith angle\n",
        "    :return: \n",
        "    \"\"\"\n",
        "    plt.figure(figsize=(20, 12))\n",
        "    plt.subplot(2, 1, 1)\n",
        "    plt.errorbar(\n",
        "        wavs_band,\n",
        "        reflectance_band,\n",
        "        yerr=reflectance_band_unc,\n",
        "        fmt=\"o\",\n",
        "        ls=\"none\",\n",
        "        ms=10,\n",
        "        color=\"m\",\n",
        "        label=\"HYPERNETS for satellite bands\",\n",
        "    )\n",
        "    plt.errorbar(\n",
        "        sat_wav, sat_refl, yerr=sat_unc, fmt=\"o\", ls=\"none\", ms=10, color=\"g\", label=sat\n",
        "    )\n",
        "    plt.fill_between(\n",
        "        hyp_wav, hyp_refl - hyp_unc, hyp_refl + hyp_unc, alpha=0.3, color=\"b\"\n",
        "    )\n",
        "    plt.plot(hyp_wav, hyp_refl, \"-b\", label=\"HYPERNETS full-resolution model\")\n",
        "    if sat == \"Landsat-8\" or sat == \"Landsat-9\":\n",
        "        plt.title(\n",
        "            \"Landsat-8/9 (vza=%.1f) vs HYPERNETS TOA Comparison at %s\" % (vza, date),\n",
        "            fontsize=20,\n",
        "        )\n",
        "    else:\n",
        "        plt.title(\n",
        "            \"%s (vza=%.1f) vs HYPERNETS Comparison at %s\" % (sat, vza, date),\n",
        "            fontsize=20,\n",
        "        )\n",
        "    plt.ylabel(\"Reflectance\", fontsize=20)\n",
        "    plt.xlim(380, 1700)\n",
        "    plt.ylim(0.0, 0.6)\n",
        "    plt.xticks(fontsize=20)\n",
        "    plt.yticks(fontsize=20)\n",
        "    plt.legend(loc=2, numpoints=1, scatterpoints=1, facecolor=\"white\")\n",
        "\n",
        "    plt.subplot(2, 1, 2)\n",
        "    plt.errorbar(\n",
        "        sat_wav,\n",
        "        bias,\n",
        "        yerr=bias_unc,\n",
        "        fmt=\"o\",\n",
        "        mfc=\"blue\",\n",
        "        ls=\"none\",\n",
        "        ms=15,\n",
        "        capsize=3,\n",
        "        label=\"HYPERNETS-%s bias\" % sat,\n",
        "    )\n",
        "    plt.axhline(y=0, color=\"r\", linestyle=\"--\")\n",
        "    plt.ylabel(\"Relative Difference (%)\", fontsize=20)\n",
        "    plt.xlabel(\"Wavelength (nm)\", fontsize=20)\n",
        "    plt.xlim(380, 1700)\n",
        "    plt.ylim(-10, 10)\n",
        "    plt.xticks(fontsize=20)\n",
        "    plt.yticks(fontsize=20)\n",
        "    plt.legend()\n",
        "    # plt.legend(loc=2, numpoints=1, scatterpoints=1, facecolor='white')\n",
        "    plt.show()\n",
        "    plt.close()"
      ]
    },
    {
      "attachments": {},
      "cell_type": "markdown",
      "metadata": {},
      "source": [
        "and then finally make the plot without uncertainties:"
      ]
    },
    {
      "cell_type": "code",
      "execution_count": null,
      "metadata": {},
      "outputs": [],
      "source": [
        "plot_no_uncertainties(\"LANDSAT 9\", \"2022-06-06\", wav_L9, refl_L9_hyp, wav_HYP_full, refl_HYP_full, bias_hyp, wav_L9, refl_HYP, vza_L9)\n"
      ]
    },
    {
      "attachments": {},
      "cell_type": "markdown",
      "metadata": {},
      "source": [
        "**Here the real exercise begins**"
      ]
    },
    {
      "attachments": {},
      "cell_type": "markdown",
      "metadata": {},
      "source": [
        "Next, it is your job to propagate uncertainties through the spectral band integration of the HYPERNETS data, and through the bias calculation. Propagate the HYPERNETS random uncertainties and systematic uncertainties (and custom error correlation matrix) and combine these two components quadratically."
      ]
    },
    {
      "cell_type": "code",
      "execution_count": null,
      "metadata": {},
      "outputs": [],
      "source": [
        "prop = MCPropagation(50, parallel_cores=1)\n",
        "u_ran_refl_HYP = prop.propagate_standard(band_integrate_L9,[refl_HYP_full,wav_HYP_full],[u_ran_refl_HYP_full,None],[\"rand\",None])\n",
        "u_sys_refl_HYP = prop.propagate_standard(band_integrate_L9,[refl_HYP_full,wav_HYP_full],[u_sys_refl_HYP_full,None],[ds_HYP[\"err_corr_systematic_reflectance\"].values,None])\n",
        "u_refl_HYP = np.sqrt(u_ran_refl_HYP**2+u_sys_refl_HYP**2)\n"
      ]
    },
    {
      "attachments": {},
      "cell_type": "markdown",
      "metadata": {},
      "source": [
        "Compare the band integrated uncertainties to the full resolution uncertainties, and see how they are affected differently by the process. "
      ]
    },
    {
      "cell_type": "code",
      "execution_count": null,
      "metadata": {},
      "outputs": [],
      "source": [
        "plt.plot(wav_HYP_full,u_ran_refl_HYP_full,\"red\",label=\"random uncertainty full resolution\")\n",
        "plt.plot(wav_HYP_full,u_sys_refl_HYP_full,\"blue\",label=\"systematic uncertainty full resolution\")\n",
        "plt.plot(wav_L9,u_ran_refl_HYP,\"ro\",label=\"random uncertainty band integrated\")\n",
        "plt.plot(wav_L9,u_sys_refl_HYP,\"bo\",label=\"systematic uncertainty band integrated\")\n",
        "plt.yscale(\"log\") \n",
        "plt.legend()\n",
        "plt.show()\n",
        "plt.close()  "
      ]
    },
    {
      "attachments": {},
      "cell_type": "markdown",
      "metadata": {},
      "source": [
        "**Question 1:** Which of the uncertainty components is most reduced by the spectral band integration?"
      ]
    },
    {
      "attachments": {},
      "cell_type": "markdown",
      "metadata": {},
      "source": [
        "Next, calculate the uncertainties on the bias:"
      ]
    },
    {
      "cell_type": "code",
      "execution_count": null,
      "metadata": {},
      "outputs": [],
      "source": [
        "# Note that this can perfectly be done using punpy, by just wrapping the bias calculation in a measurement function\n",
        "# However given it is easy to calculate analytically, and this is faster than the MC propagation, we here just add the relative uncertainties in qaudrature:\n",
        "\n",
        "u_bias_hyp = np.sqrt((u_refl_L9_hyp / refl_L9_hyp) ** 2 + (u_refl_HYP / refl_HYP) ** 2) * 100"
      ]
    },
    {
      "attachments": {},
      "cell_type": "markdown",
      "metadata": {},
      "source": [
        "Finally, make the bias plot with uncertainties, using the function provided previously. "
      ]
    },
    {
      "cell_type": "code",
      "execution_count": null,
      "metadata": {},
      "outputs": [],
      "source": [
        "plot_with_uncertainties(\"LANDSAT 9\", \"2022-06-06\", wav_L9, refl_L9_hyp, u_refl_L9_hyp, wav_HYP_full, refl_HYP_full, u_refl_HYP_full, bias_hyp, u_bias_hyp, wav_L9, refl_HYP, u_refl_HYP, vza_L9)"
      ]
    },
    {
      "attachments": {},
      "cell_type": "markdown",
      "metadata": {},
      "source": [
        "**Question 2:** Within the shown examples, we have propagated some uncertainty components, but there are many others missing. Could you think of a few uncertainty components that are missing when comparing the in-situ data to satellites?"
      ]
    }
  ],
  "metadata": {
    "colab": {
      "authorship_tag": "ABX9TyM40nBwQDY7evd+aKCRtcm/",
      "include_colab_link": true,
      "name": "LPS_training_exercise3.ipynb",
      "provenance": []
    },
    "kernelspec": {
      "display_name": "Python 3",
      "name": "python3"
    },
    "language_info": {
      "name": "python",
      "version": "3.9.2-final"
    }
  },
  "nbformat": 4,
  "nbformat_minor": 0
}
