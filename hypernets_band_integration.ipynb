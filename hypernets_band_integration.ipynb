{
  "cells": [
    {
      "cell_type": "markdown",
      "metadata": {
        "colab_type": "text",
        "id": "view-in-github"
      },
      "source": [
        "<a href=\"https://colab.research.google.com/github/comet-toolkit/comet_training/blob/main/hypernets_surface_reflectance.ipynb\" target=\"_parent\"><img src=\"https://colab.research.google.com/assets/colab-badge.svg\" alt=\"Open In Colab\"/></a>"
      ]
    },
    {
      "attachments": {},
      "cell_type": "markdown",
      "metadata": {
        "id": "q--XLoo4Z325"
      },
      "source": [
        "**Band integration for HYPERNETS**"
      ]
    },
    {
      "attachments": {},
      "cell_type": "markdown",
      "metadata": {
        "id": "4pxZ7fqqZ6jS"
      },
      "source": [
        "This is an example of how the matheo tool (https://matheo.readthedocs.io/en/latest/) can be used to band integrate the HYPERNETS products over various satellite spectral response functions (SRF)."
      ]
    },
    {
      "attachments": {},
      "cell_type": "markdown",
      "metadata": {
        "id": "MzrTVRTqaNE3"
      },
      "source": [
        "We first install the obsarray package (flag handling and accessing uncertainties), the punpy package (uncertainty propagation) and the matheo package (for band integration)."
      ]
    },
    {
      "cell_type": "code",
      "execution_count": null,
      "metadata": {},
      "outputs": [],
      "source": [
        "!pip install matheo"
      ]
    },
    {
      "attachments": {},
      "cell_type": "markdown",
      "metadata": {},
      "source": [
        "Next, we open the HYPERNETS L2B data. An example for Gobabeb is used and available from the comet_training repository (which is first cloned). "
      ]
    },
    {
      "cell_type": "code",
      "execution_count": null,
      "metadata": {},
      "outputs": [],
      "source": [
        "!git clone https://github.com/comet-toolkit/comet_training.git"
      ]
    },
    {
      "cell_type": "code",
      "execution_count": null,
      "metadata": {},
      "outputs": [],
      "source": [
        "import xarray as xr\n",
        "import numpy as np\n",
        "import obsarray\n",
        "\n",
        "ds_HYP = xr.open_dataset(\"HYPERNETS_L_GHNA_L2A_REF_20231103T0901_20240124T2246_v2.0.nc\")  # read digital effects table\n",
        "reflectance_HYP=ds_HYP[\"reflectance\"].values\n",
        "u_reflectance_HYP=ds_HYP.unc[\"reflectance\"].total_unc()  # use obsarray to get total uncertainties\n",
        "wavelength_HYP=ds_HYP[\"wavelength\"].values"
      ]
    },
    {
      "attachments": {},
      "cell_type": "markdown",
      "metadata": {},
      "source": [
        "As described in https://matheo.readthedocs.io/en/latest/content/user_guide.html, there are three main methods to perform band integration using matheo. \n",
        "The first way is using the platform name and sensor name for an earth observation sensor which is included in pyspectral (see https://pyspectral.readthedocs.io/en/master/platforms_supported.html for supported platforms), it is possible to just specify the platform and sensor as a string using the spectral_band_int_sensor() function. Here we perform the band integration over the S2A spectral response function:"
      ]
    },
    {
      "cell_type": "code",
      "execution_count": null,
      "metadata": {},
      "outputs": [],
      "source": [
        "from matheo.band_integration import band_integration\n",
        "\n",
        "refl_band, band_centres = band_integration.spectral_band_int_sensor(\n",
        "    d=reflectance_HYP,\n",
        "    wl=wavelength_HYP,\n",
        "    platform_name=\"Sentinel-2A\",\n",
        "    sensor_name=\"MSI\",\n",
        "    u_d=None,\n",
        ")\n",
        "print(band_centres, refl_band)                          "
      ]
    },
    {
      "attachments": {},
      "cell_type": "markdown",
      "metadata": {},
      "source": [
        "Alternatively, for satellites not included in this list it is possible to use manually specified SRFs. One can either specify the widths of each band (here all bands have width of 10 nm, but variable width per band is also possible) and provide a band_shape (here triangular SRF is assumed, other options include tophat and Gaussian) using:"
      ]
    },
    {
      "cell_type": "code",
      "execution_count": null,
      "metadata": {},
      "outputs": [],
      "source": [
        "wav_sat = np.arange(400,1600,10)\n",
        "width_sat = 10*np.ones_like(wav_sat)\n",
        "\n",
        "refl_band = band_integration.pixel_int(\n",
        "   d=reflectance_HYP,\n",
        "   x=wavelength_HYP,\n",
        "   x_pixel=wav_sat,\n",
        "   width_pixel=width_sat,\n",
        "   band_shape=\"triangle\"\n",
        ")\n",
        "\n",
        "print(refl_band.shape)"
      ]
    },
    {
      "attachments": {},
      "cell_type": "markdown",
      "metadata": {
        "id": "h_td3OAXcUXT"
      },
      "source": [
        "Finally, it is also possible to manually provide an array which provides the SRF for each band directly.\n",
        "Here for convenience, we are generating these using the fd.f_triangle function (which is essentially the same as what happens in the step above), but any array could be provided."
      ]
    },
    {
      "cell_type": "code",
      "execution_count": null,
      "metadata": {},
      "outputs": [],
      "source": [
        "from matheo.utils import function_def as fd\n",
        "\n",
        "wav_SRF = np.arange(390,1610,0.1)\n",
        "r_SRF = np.array([fd.f_triangle(wav_SRF, sat_wav_i, 10) for sat_wav_i in wav_sat])\n",
        "refl_band2 = band_integration.band_int(reflectance_HYP, wavelength_HYP, r_SRF, wav_SRF)"
      ]
    },
    {
      "attachments": {},
      "cell_type": "markdown",
      "metadata": {},
      "source": [
        "Next, to illustrate results we plot each of the band integrated spectra and the HYPERNETS spectrum they were derived from.\n",
        "The land HYPERNETS sequences contain many different series (different viewing geometries). Each series was band integrated using the methods above.\n",
        "For clarity, we here only plot a single series (with randomly selected index 30)."
      ]
    },
    {
      "cell_type": "code",
      "execution_count": null,
      "metadata": {},
      "outputs": [],
      "source": [
        "import matplotlib.pyplot as plt\n",
        "\n",
        "plt.plot(wavelength_HYP,reflectance_HYP[:,30],label=\"HYPERNETS reflectance for index 30\")\n",
        "plt.fill_between(wavelength_HYP,reflectance_HYP[:,30]-u_reflectance_HYP[:,30],reflectance_HYP[:,30]+u_reflectance_HYP[:,30], alpha=0.3, label=\"HYPERNETS reflectance uncertainty\")\n",
        "plt.plot(wav_sat,refl_band[:,30],label=\"pixel_int with 10nm sampling and 10 nm width\")\n",
        "plt.plot(wav_sat,refl_band2[:,30],label=\"band_int with 10nm sampling and 10 nm width\")\n",
        "plt.plot(band_centres_S2,refl_S2[:,30],\"s\",label=\"spectral_band_int_sensor with S2A SRF\")\n",
        "plt.legend()\n",
        "plt.ylim([0,0.6])\n",
        "plt.show()"
      ]
    }
  ],
  "metadata": {
    "colab": {
      "authorship_tag": "ABX9TyM40nBwQDY7evd+aKCRtcm/",
      "include_colab_link": true,
      "name": "hypernets_surface_reflectance.ipynb",
      "provenance": []
    },
    "kernelspec": {
      "display_name": "Python 3",
      "name": "python3"
    },
    "language_info": {
      "name": "python",
      "version": "3.9.2-final"
    }
  },
  "nbformat": 4,
  "nbformat_minor": 0
}
