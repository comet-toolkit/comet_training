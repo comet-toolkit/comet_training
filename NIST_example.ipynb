{
  "nbformat": 4,
  "nbformat_minor": 0,
  "metadata": {
    "colab": {
      "name": "example_punpy.ipynb",
      "provenance": [],
      "authorship_tag": "ABX9TyM40nBwQDY7evd+aKCRtcm/",
      "include_colab_link": true
    },
    "kernelspec": {
      "name": "python3",
      "display_name": "Python 3"
    },
    "language_info": {
      "name": "python",
      "version": "3.9.2-final"
    }
  },
  "cells": [
    {
      "cell_type": "markdown",
      "execution_count": null,
      "metadata": {
        "colab_type": "text",
        "id": "view-in-github"
      },
      "outputs": [],
      "source": [
        "<a href=\"https://colab.research.google.com/github/pdevis/punpy/blob/master/esa_example.ipynb\" target=\"_parent\"><img src=\"https://colab.research.google.com/assets/colab-badge.svg\" alt=\"Open In Colab\"/></a>"
      ]
    },
    {
      "cell_type": "markdown",
      "execution_count": null,
      "metadata": {
        "id": "q--XLoo4Z325"
      },
      "outputs": [],
      "source": [
        "# Comparison of punpy and NIST results"
      ]
    },
    {
      "cell_type": "markdown",
      "execution_count": null,
      "metadata": {
        "id": "4pxZ7fqqZ6jS"
      },
      "outputs": [],
      "source": [
        "In this document, we compare the results of punpy to the NIST uncertainty machine (https://uncertainty.nist.gov/) for validation purposes. The NIST uncertainty machine user manual (https://uncertainty.nist.gov/NISTUncertaintyMachine-UserManual.pdf) defines multiple examples. Here we will repeat some of these examples with punpy and compare to the NIST uncertainty machine results."
      ]
    },
    {
      "cell_type": "markdown",
      "execution_count": null,
      "metadata": {},
      "outputs": [],
      "source": [
        "##  Example — End-Gauge Calibration"
      ]
    },
    {
      "cell_type": "markdown",
      "execution_count": null,
      "metadata": {
        "id": "MzrTVRTqaNE3"
      },
      "outputs": [],
      "source": [
        "We start with the example of an end-gauge calibration (Section 8 in user manual; see also Example H.1 of the GUM and Guthrie et al. 2009). The numerical setup is available on https://uncertainty.nist.gov/?example=Gauge . We first install and import our punpy package, and define the measurement function and example data:"
      ]
    },
    {
      "cell_type": "code",
      "execution_count": null,
      "metadata": {},
      "outputs": [],
      "source": [
        "!pip install punpy==0.25"
      ]
    },
    {
      "cell_type": "code",
      "execution_count": null,
      "metadata": {},
      "outputs": [],
      "source": [
        "import punpy\n",
        "import numpy as np\n",
        "import matplotlib.pyplot as plt\n",
        "\n",
        "# your measurement function\n",
        "def calibrate(lS,d,dalpha,theta,alphaS,dtheta):\n",
        "   return lS + d - lS*(dalpha*theta + alphaS*dtheta)\n",
        "\n",
        "# your data\n",
        "lS=50000623\n",
        "d=215\n",
        "dalpha=0\n",
        "theta=-0.1\n",
        "alphaS=11.5e-6\n",
        "dtheta=0\n",
        "\n",
        "# your uncertainties\n",
        "u_lS=25\n",
        "u_d=9.7\n",
        "u_dalpha=0.58e-6\n",
        "u_theta=0.41\n",
        "u_alphaS=1.2e-6\n",
        "u_dtheta=0.029"
      ]
    },
    {
      "cell_type": "markdown",
      "execution_count": null,
      "metadata": {
        "id": "MWb_xvSoaa6Y"
      },
      "outputs": [],
      "source": [
        "We then create an MC propagation object, and propagate these uncertainties:"
      ]
    },
    {
      "cell_type": "code",
      "execution_count": null,
      "metadata": {},
      "outputs": [],
      "source": [
        "prop=punpy.MCPropagation(100000)\n",
        "y=calibrate(lS,d,dalpha,theta,alphaS,dtheta)\n",
        "u_y=prop.propagate_random(calibrate,[lS,d,dalpha,theta,alphaS,dtheta],\n",
        "      [u_lS,u_d,u_dalpha,u_theta,u_alphaS,u_dtheta])\n",
        "print(\"y:    \",y)\n",
        "print(\"u_y: \",u_y)\n"
      ]
    },
    {
      "cell_type": "markdown",
      "execution_count": null,
      "metadata": {},
      "outputs": [],
      "source": [
        "These results are entirely consisent with the results of the NIST uncertainty machine."
      ]
    },
    {
      "cell_type": "markdown",
      "execution_count": null,
      "metadata": {},
      "outputs": [],
      "source": [
        "##  Example — Dynamic Viscosity"
      ]
    },
    {
      "cell_type": "markdown",
      "execution_count": null,
      "metadata": {
        "id": "MzrTVRTqaNE3"
      },
      "outputs": [],
      "source": [
        "Next, we discuss the example of Dynamic Viscosity (Section 8 in user manual). The numerical setup is available on https://uncertainty.nist.gov/?example=Viscosity . We first install and import our punpy package, and define the measurement function and example data:"
      ]
    },
    {
      "cell_type": "code",
      "execution_count": null,
      "metadata": {},
      "outputs": [],
      "source": [
        "import punpy\n",
        "import numpy as np\n",
        "import matplotlib.pyplot as plt\n",
        "\n",
        "# your measurement function\n",
        "def calibrate(muC,rhoB,rhoM,rhoC,tM,tC):\n",
        "   return muC * ((rhoB-rhoM)/(rhoB-rhoC)) * (tM/tC)\n",
        "\n",
        "# your data\n",
        "muC=4.63\n",
        "rhoB=2217\n",
        "rhoM=1180\n",
        "rhoC=810\n",
        "tM=61\n",
        "tC=36.6\n",
        "\n",
        "# your uncertainties\n",
        "u_muC=0.0463\n",
        "u_rhoB=0.5\n",
        "u_rhoM=0.5\n",
        "u_rhoC=0.5\n",
        "u_tM=6.1\n",
        "u_tC=5.49"
      ]
    },
    {
      "cell_type": "markdown",
      "execution_count": null,
      "metadata": {
        "id": "MWb_xvSoaa6Y"
      },
      "outputs": [],
      "source": [
        "We then create an MC propagation object, and propagate these uncertainties:"
      ]
    },
    {
      "cell_type": "code",
      "execution_count": null,
      "metadata": {},
      "outputs": [],
      "source": [
        "prop=punpy.MCPropagation(1000000)\n",
        "y=calibrate(muC,rhoB,rhoM,rhoC,tM,tC)\n",
        "u_y,ys,xs=prop.propagate_random(calibrate,[muC,rhoB,rhoM,rhoC,tM,tC],\n",
        "      [u_muC,u_rhoB,u_rhoM,u_rhoC,u_tM,u_tC],return_samples=True)\n",
        "print(\"y:    \",y)\n",
        "print(\"u_y: \",u_y)\n",
        "plt.hist(ys,bins=np.arange(3,9,0.05))\n",
        "plt.show()\n"
      ]
    },
    {
      "cell_type": "markdown",
      "execution_count": null,
      "metadata": {},
      "outputs": [],
      "source": [
        "These results are entirely consisent with the results of the NIST uncertainty machine."
      ]
    },
    {
      "cell_type": "markdown",
      "execution_count": null,
      "metadata": {},
      "outputs": [],
      "source": [
        "##  Example — Resistance"
      ]
    },
    {
      "cell_type": "markdown",
      "execution_count": null,
      "metadata": {
        "id": "MzrTVRTqaNE3"
      },
      "outputs": [],
      "source": [
        "Next, we discuss the example of Resistance (Section 10 in user manual). The numerical setup is available on https://uncertainty.nist.gov/?example=Resistance . We first install and import our punpy package, and define the measurement function and example data:"
      ]
    },
    {
      "cell_type": "code",
      "execution_count": null,
      "metadata": {},
      "outputs": [],
      "source": [
        "import punpy\n",
        "import numpy as np\n",
        "import matplotlib.pyplot as plt\n",
        "\n",
        "# your measurement function\n",
        "def calibrate(V,I,phi):\n",
        "   return (V/I)*np.cos(phi)\n",
        "\n",
        "# your data\n",
        "V=4.9990\n",
        "I=19.6610e-3\n",
        "phi=1.04446\n",
        "\n",
        "# your uncertainties\n",
        "u_V=0.0032\n",
        "u_I=0.0095e-3\n",
        "u_phi=0.00075\n",
        "\n",
        "# covariance\n",
        "corr_between=[[1,-0.36,0.86],[-0.36,1,-0.65],[0.86,-0.65,1]]"
      ]
    },
    {
      "cell_type": "markdown",
      "execution_count": null,
      "metadata": {
        "id": "MWb_xvSoaa6Y"
      },
      "outputs": [],
      "source": [
        "We then create an MC propagation object, and propagate these uncertainties:"
      ]
    },
    {
      "cell_type": "code",
      "execution_count": null,
      "metadata": {},
      "outputs": [],
      "source": [
        "prop=punpy.MCPropagation(1000000)\n",
        "y=calibrate(V,I,phi)\n",
        "u_y=prop.propagate_random(calibrate,[V,I,phi],\n",
        "      [u_V,u_I,u_phi],corr_between=corr_between)\n",
        "print(\"y:    \",y)\n",
        "print(\"u_y: \",u_y)\n"
      ]
    },
    {
      "cell_type": "markdown",
      "execution_count": null,
      "metadata": {},
      "outputs": [],
      "source": [
        "These results are entirely consisent with the results of the NIST uncertainty machine."
      ]
    },
    {
      "cell_type": "markdown",
      "execution_count": null,
      "metadata": {},
      "outputs": [],
      "source": [
        "##  Example — Stefan-Boltzmann Constant"
      ]
    },
    {
      "cell_type": "markdown",
      "execution_count": null,
      "metadata": {
        "id": "MzrTVRTqaNE3"
      },
      "outputs": [],
      "source": [
        "Next, we discuss the example of the Stefan-Boltzmann Constant (Section 11 in user manual). The numerical setup is available on https://uncertainty.nist.gov/?example=Stefan . We first install and import our punpy package, and define the measurement function and example data:"
      ]
    },
    {
      "cell_type": "code",
      "execution_count": null,
      "metadata": {},
      "outputs": [],
      "source": [
        "import punpy\n",
        "import numpy as np\n",
        "import matplotlib.pyplot as plt\n",
        "\n",
        "# your measurement function\n",
        "def calibrate(h,R,Rinf,e,alpha):\n",
        "   N = 32 * (np.pi**5) * h * (R**4) * (Rinf**4)\n",
        "   D = 15 * (e**4) * ((1e-3)**4) * (299792458**6) * (alpha**8)\n",
        "   return N / D\n",
        "\n",
        "# your data\n",
        "h=6.62606957e-34\n",
        "R=8.3144621\n",
        "Rinf=10973731.568539\n",
        "e=5.4857990946e-4\n",
        "alpha=7.2973525698e-3\n",
        "\n",
        "# your uncertainties\n",
        "u_h=0.00000029e-34\n",
        "u_R=0.0000075\n",
        "u_Rinf=0.000055\n",
        "u_e=0.0000000022e-4\n",
        "u_alpha=0.0000000024e-3\n"
      ]
    },
    {
      "cell_type": "markdown",
      "execution_count": null,
      "metadata": {
        "id": "MWb_xvSoaa6Y"
      },
      "outputs": [],
      "source": [
        "We then create an MC propagation object, and propagate these uncertainties:"
      ]
    },
    {
      "cell_type": "code",
      "execution_count": null,
      "metadata": {},
      "outputs": [],
      "source": [
        "prop=punpy.MCPropagation(1000000)\n",
        "y=calibrate(h,R,Rinf,e,alpha)\n",
        "u_y=prop.propagate_random(calibrate,[h,R,Rinf,e,alpha],\n",
        "      [u_h,u_R,u_Rinf,u_e,u_alpha])\n",
        "print(\"y:    \",y)\n",
        "print(\"u_y: \",u_y)\n"
      ]
    },
    {
      "cell_type": "markdown",
      "execution_count": null,
      "metadata": {},
      "outputs": [],
      "source": [
        "These results are entirely consisent with the results of the NIST uncertainty machine."
      ]
    },
    {
      "cell_type": "markdown",
      "execution_count": null,
      "metadata": {},
      "outputs": [],
      "source": [
        "##  Example — Voltage Reflection Coefficient"
      ]
    },
    {
      "cell_type": "markdown",
      "execution_count": null,
      "metadata": {
        "id": "MzrTVRTqaNE3"
      },
      "outputs": [],
      "source": [
        "Finally, we give the example of Voltage Reflection Coefficient (Section 12 in user manual). The numerical setup is available on https://uncertainty.nist.gov/?example=Voltage. We first install and import our punpy package, and define the measurement function and example data:"
      ]
    },
    {
      "cell_type": "code",
      "execution_count": null,
      "metadata": {},
      "outputs": [],
      "source": [
        "import punpy\n",
        "import numpy as np\n",
        "import matplotlib.pyplot as plt\n",
        "\n",
        "def complex_mod(modulus,argument):\n",
        "   if not hasattr(modulus,'__len__'):\n",
        "      real=modulus*np.cos(argument)\n",
        "      imag=modulus*np.sin(argument)\n",
        "      return complex(real,imag)\n",
        "   else:\n",
        "      comp=np.empty(len(modulus),dtype=complex)\n",
        "      for i in range(len(modulus)):\n",
        "          real=modulus[i]*np.cos(argument[i])\n",
        "          imag=modulus[i]*np.sin(argument[i])\n",
        "          comp[i]=complex(real,imag)\n",
        "      return comp\n",
        "\n",
        "\n",
        "\n",
        "# your measurement function\n",
        "def calibrate(S22Mod,S22Arg,S12Mod,S12Arg,S23Mod,S23Arg,S13Mod,S13Arg):\n",
        "   S22 = complex_mod(modulus=S22Mod, argument=S22Arg)\n",
        "   S12 = complex_mod(modulus=S12Mod, argument=S12Arg)\n",
        "   S23 = complex_mod(modulus=S23Mod, argument=S23Arg)\n",
        "   S13 = complex_mod(modulus=S13Mod, argument=S13Arg)\n",
        "   Gamma = S22 - S12*S23/S13\n",
        "   return Gamma.real, Gamma.imag\n",
        "\n",
        "# your data\n",
        "S22Mod=0.24776\n",
        "S22Arg=4.88683\n",
        "S12Mod=0.49935\n",
        "S12Arg=4.78595\n",
        "S23Mod=0.24971\n",
        "S23Arg=4.85989\n",
        "S13Mod=0.49952\n",
        "S13Arg=4.79054\n",
        "\n",
        "# your uncertainties\n",
        "u_S22Mod=0.00337\n",
        "u_S22Arg=0.01392\n",
        "u_S12Mod=0.00340\n",
        "u_S12Arg=0.00835\n",
        "u_S23Mod=0.00170\n",
        "u_S23Arg=0.00842\n",
        "u_S13Mod=0.00340\n",
        "u_S13Arg=0.00835"
      ]
    },
    {
      "cell_type": "markdown",
      "execution_count": null,
      "metadata": {
        "id": "MWb_xvSoaa6Y"
      },
      "outputs": [],
      "source": [
        "We then create an MC propagation object, and propagate these uncertainties:"
      ]
    },
    {
      "cell_type": "code",
      "execution_count": null,
      "metadata": {},
      "outputs": [],
      "source": [
        "prop=punpy.MCPropagation(100000)\n",
        "y=calibrate(S22Mod,S22Arg,S12Mod,S12Arg,S23Mod,S23Arg,S13Mod,S13Arg)\n",
        "u_y=prop.propagate_random(calibrate,[S22Mod,S22Arg,S12Mod,S12Arg,S23Mod,S23Arg,S13Mod,S13Arg],\n",
        "      [u_S22Mod,u_S22Arg,u_S12Mod,u_S12Arg,u_S23Mod,u_S23Arg,u_S13Mod,u_S13Arg],output_vars=2)\n",
        "print(\"y:    \",y)\n",
        "print(\"u_y: \",u_y)\n"
      ]
    },
    {
      "cell_type": "markdown",
      "execution_count": null,
      "metadata": {},
      "outputs": [],
      "source": [
        "These results are entirely consisent with the results of the NIST uncertainty machine."
      ]
    }
  ]
}